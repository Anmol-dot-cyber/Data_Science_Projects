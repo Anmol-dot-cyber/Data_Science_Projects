{
 "cells": [
  {
   "cell_type": "code",
   "execution_count": 1,
   "metadata": {},
   "outputs": [],
   "source": [
    "import warnings\n",
    "warnings.filterwarnings('ignore')\n",
    "import pandas as pd\n",
    "import math\n",
    "from sklearn.model_selection import train_test_split,KFold\n",
    "import numpy as np"
   ]
  },
  {
   "cell_type": "code",
   "execution_count": 2,
   "metadata": {},
   "outputs": [],
   "source": [
    "datafile_train=r'C:\\Users\\Anmol\\Desktop\\Dig_Nest_Data\\Python_Data_Materials\\Main Project\\P1 Data\\Consumer_Complaints_train.csv'\n",
    "datafile_test=r'C:\\Users\\Anmol\\Desktop\\Dig_Nest_Data\\Python_Data_Materials\\Main Project\\P1 Data\\Consumer_Complaints_test_share.csv'\n",
    "cd_train=pd.read_csv(datafile_train)\n",
    "cd_test=pd.read_csv(datafile_test)"
   ]
  },
  {
   "cell_type": "code",
   "execution_count": 3,
   "metadata": {},
   "outputs": [
    {
     "data": {
      "text/plain": [
       "Date received                   object\n",
       "Product                         object\n",
       "Sub-product                     object\n",
       "Issue                           object\n",
       "Sub-issue                       object\n",
       "Consumer complaint narrative    object\n",
       "Company public response         object\n",
       "Company                         object\n",
       "State                           object\n",
       "ZIP code                        object\n",
       "Tags                            object\n",
       "Consumer consent provided?      object\n",
       "Submitted via                   object\n",
       "Date sent to company            object\n",
       "Company response to consumer    object\n",
       "Timely response?                object\n",
       "Consumer disputed?              object\n",
       "Complaint ID                     int64\n",
       "dtype: object"
      ]
     },
     "execution_count": 3,
     "metadata": {},
     "output_type": "execute_result"
    }
   ],
   "source": [
    "cd_train.dtypes"
   ]
  },
  {
   "cell_type": "code",
   "execution_count": 4,
   "metadata": {},
   "outputs": [],
   "source": [
    "for col in ['Date received','Date sent to company']:\n",
    "    cd_train[col]=pd.to_datetime(cd_train[col],infer_datetime_format=True)\n",
    "    cd_test[col]=pd.to_datetime(cd_test[col],infer_datetime_format=True)"
   ]
  },
  {
   "cell_type": "code",
   "execution_count": 5,
   "metadata": {},
   "outputs": [],
   "source": [
    "cd_train['day_diff']=pd.to_numeric(cd_train['Date sent to company']-cd_train['Date received'])\n",
    "cd_test['day_diff']=pd.to_numeric(cd_test['Date sent to company']-cd_test['Date received'])/86400000000000"
   ]
  },
  {
   "cell_type": "code",
   "execution_count": 6,
   "metadata": {},
   "outputs": [],
   "source": [
    "for col in ['Date received','Date sent to company']:\n",
    "    cd_train.drop([col],1,inplace=True)\n",
    "    cd_test.drop([col],1,inplace=True)"
   ]
  },
  {
   "cell_type": "code",
   "execution_count": 7,
   "metadata": {},
   "outputs": [
    {
     "name": "stdout",
     "output_type": "stream",
     "text": [
      "Product : 12\n",
      "Sub-product : 47\n",
      "Issue : 95\n",
      "Sub-issue : 68\n",
      "Consumer complaint narrative : 74019\n",
      "Company public response : 10\n",
      "Company : 3276\n",
      "State : 62\n",
      "ZIP code : 25962\n",
      "Tags : 3\n",
      "Consumer consent provided? : 4\n",
      "Submitted via : 6\n",
      "Company response to consumer : 7\n",
      "Timely response? : 2\n",
      "Consumer disputed? : 2\n"
     ]
    }
   ],
   "source": [
    "for col in cd_train.select_dtypes(['object']).columns:\n",
    "    print(col,':',cd_train[col].nunique())"
   ]
  },
  {
   "cell_type": "code",
   "execution_count": 8,
   "metadata": {},
   "outputs": [
    {
     "data": {
      "text/plain": [
       "Product                              0\n",
       "Sub-product                     138473\n",
       "Issue                                0\n",
       "Sub-issue                       292625\n",
       "Consumer complaint narrative    403327\n",
       "Company public response         388029\n",
       "Company                              0\n",
       "State                             3839\n",
       "ZIP code                          3848\n",
       "Tags                            411215\n",
       "Consumer consent provided?      342934\n",
       "Submitted via                        0\n",
       "Company response to consumer         0\n",
       "Timely response?                     0\n",
       "Consumer disputed?                   0\n",
       "Complaint ID                         0\n",
       "day_diff                             0\n",
       "dtype: int64"
      ]
     },
     "execution_count": 8,
     "metadata": {},
     "output_type": "execute_result"
    }
   ],
   "source": [
    "cd_train.isnull().sum()"
   ]
  },
  {
   "cell_type": "code",
   "execution_count": 9,
   "metadata": {},
   "outputs": [
    {
     "data": {
      "text/plain": [
       "478421"
      ]
     },
     "execution_count": 9,
     "metadata": {},
     "output_type": "execute_result"
    }
   ],
   "source": [
    "len(pd.isnull(cd_train['Tags']))\n",
    "len(cd_train)"
   ]
  },
  {
   "cell_type": "code",
   "execution_count": 10,
   "metadata": {},
   "outputs": [],
   "source": [
    "for col in ['Sub-product','Sub-issue','Consumer complaint narrative',\n",
    "            'Company public response','Tags','Consumer consent provided?']:\n",
    "    varname=col.replace('-','_').replace('?','').replace(\" \",'_')+'_isNan'\n",
    "    cd_train[varname]=np.where(pd.isnull(cd_train[col]),1,0)\n",
    "    cd_train.drop([col],1,inplace=True)\n",
    "    cd_test[varname]=np.where(pd.isnull(cd_test[col]),1,0)\n",
    "    cd_test.drop([col],1,inplace=True)\n",
    "    "
   ]
  },
  {
   "cell_type": "code",
   "execution_count": 11,
   "metadata": {},
   "outputs": [
    {
     "data": {
      "text/html": [
       "<div>\n",
       "<style scoped>\n",
       "    .dataframe tbody tr th:only-of-type {\n",
       "        vertical-align: middle;\n",
       "    }\n",
       "\n",
       "    .dataframe tbody tr th {\n",
       "        vertical-align: top;\n",
       "    }\n",
       "\n",
       "    .dataframe thead th {\n",
       "        text-align: right;\n",
       "    }\n",
       "</style>\n",
       "<table border=\"1\" class=\"dataframe\">\n",
       "  <thead>\n",
       "    <tr style=\"text-align: right;\">\n",
       "      <th></th>\n",
       "      <th>Product</th>\n",
       "      <th>Issue</th>\n",
       "      <th>Company</th>\n",
       "      <th>State</th>\n",
       "      <th>ZIP code</th>\n",
       "      <th>Submitted via</th>\n",
       "      <th>Company response to consumer</th>\n",
       "      <th>Timely response?</th>\n",
       "      <th>Consumer disputed?</th>\n",
       "      <th>Complaint ID</th>\n",
       "      <th>day_diff</th>\n",
       "      <th>Sub_product_isNan</th>\n",
       "      <th>Sub_issue_isNan</th>\n",
       "      <th>Consumer_complaint_narrative_isNan</th>\n",
       "      <th>Company_public_response_isNan</th>\n",
       "      <th>Tags_isNan</th>\n",
       "      <th>Consumer_consent_provided_isNan</th>\n",
       "    </tr>\n",
       "  </thead>\n",
       "  <tbody>\n",
       "    <tr>\n",
       "      <th>0</th>\n",
       "      <td>Credit card</td>\n",
       "      <td>Billing statement</td>\n",
       "      <td>Wells Fargo &amp; Company</td>\n",
       "      <td>MI</td>\n",
       "      <td>48342</td>\n",
       "      <td>Web</td>\n",
       "      <td>Closed with explanation</td>\n",
       "      <td>Yes</td>\n",
       "      <td>No</td>\n",
       "      <td>856103</td>\n",
       "      <td>86400000000000</td>\n",
       "      <td>1</td>\n",
       "      <td>1</td>\n",
       "      <td>1</td>\n",
       "      <td>1</td>\n",
       "      <td>0</td>\n",
       "      <td>1</td>\n",
       "    </tr>\n",
       "    <tr>\n",
       "      <th>1</th>\n",
       "      <td>Bank account or service</td>\n",
       "      <td>Making/receiving payments, sending money</td>\n",
       "      <td>Santander Bank US</td>\n",
       "      <td>PA</td>\n",
       "      <td>18042</td>\n",
       "      <td>Referral</td>\n",
       "      <td>Closed</td>\n",
       "      <td>Yes</td>\n",
       "      <td>No</td>\n",
       "      <td>1034666</td>\n",
       "      <td>518400000000000</td>\n",
       "      <td>0</td>\n",
       "      <td>1</td>\n",
       "      <td>1</td>\n",
       "      <td>1</td>\n",
       "      <td>1</td>\n",
       "      <td>1</td>\n",
       "    </tr>\n",
       "    <tr>\n",
       "      <th>2</th>\n",
       "      <td>Credit reporting</td>\n",
       "      <td>Incorrect information on credit report</td>\n",
       "      <td>Equifax</td>\n",
       "      <td>CA</td>\n",
       "      <td>92427</td>\n",
       "      <td>Referral</td>\n",
       "      <td>Closed with non-monetary relief</td>\n",
       "      <td>Yes</td>\n",
       "      <td>No</td>\n",
       "      <td>756363</td>\n",
       "      <td>1814400000000000</td>\n",
       "      <td>1</td>\n",
       "      <td>0</td>\n",
       "      <td>1</td>\n",
       "      <td>1</td>\n",
       "      <td>1</td>\n",
       "      <td>1</td>\n",
       "    </tr>\n",
       "    <tr>\n",
       "      <th>3</th>\n",
       "      <td>Credit card</td>\n",
       "      <td>Billing statement</td>\n",
       "      <td>U.S. Bancorp</td>\n",
       "      <td>GA</td>\n",
       "      <td>305XX</td>\n",
       "      <td>Web</td>\n",
       "      <td>Closed with monetary relief</td>\n",
       "      <td>Yes</td>\n",
       "      <td>No</td>\n",
       "      <td>1474177</td>\n",
       "      <td>0</td>\n",
       "      <td>1</td>\n",
       "      <td>1</td>\n",
       "      <td>0</td>\n",
       "      <td>0</td>\n",
       "      <td>0</td>\n",
       "      <td>0</td>\n",
       "    </tr>\n",
       "  </tbody>\n",
       "</table>\n",
       "</div>"
      ],
      "text/plain": [
       "                   Product                                     Issue  \\\n",
       "0              Credit card                         Billing statement   \n",
       "1  Bank account or service  Making/receiving payments, sending money   \n",
       "2         Credit reporting    Incorrect information on credit report   \n",
       "3              Credit card                         Billing statement   \n",
       "\n",
       "                 Company State ZIP code Submitted via  \\\n",
       "0  Wells Fargo & Company    MI    48342           Web   \n",
       "1      Santander Bank US    PA    18042      Referral   \n",
       "2                Equifax    CA    92427      Referral   \n",
       "3           U.S. Bancorp    GA    305XX           Web   \n",
       "\n",
       "      Company response to consumer Timely response? Consumer disputed?  \\\n",
       "0          Closed with explanation              Yes                 No   \n",
       "1                           Closed              Yes                 No   \n",
       "2  Closed with non-monetary relief              Yes                 No   \n",
       "3      Closed with monetary relief              Yes                 No   \n",
       "\n",
       "   Complaint ID          day_diff  Sub_product_isNan  Sub_issue_isNan  \\\n",
       "0        856103    86400000000000                  1                1   \n",
       "1       1034666   518400000000000                  0                1   \n",
       "2        756363  1814400000000000                  1                0   \n",
       "3       1474177                 0                  1                1   \n",
       "\n",
       "   Consumer_complaint_narrative_isNan  Company_public_response_isNan  \\\n",
       "0                                   1                              1   \n",
       "1                                   1                              1   \n",
       "2                                   1                              1   \n",
       "3                                   0                              0   \n",
       "\n",
       "   Tags_isNan  Consumer_consent_provided_isNan  \n",
       "0           0                                1  \n",
       "1           1                                1  \n",
       "2           1                                1  \n",
       "3           0                                0  "
      ]
     },
     "execution_count": 11,
     "metadata": {},
     "output_type": "execute_result"
    }
   ],
   "source": [
    "cd_train.head(4)"
   ]
  },
  {
   "cell_type": "code",
   "execution_count": 12,
   "metadata": {},
   "outputs": [
    {
     "name": "stdout",
     "output_type": "stream",
     "text": [
      "Product : 12\n",
      "Issue : 95\n",
      "Company : 3276\n",
      "State : 62\n",
      "ZIP code : 25962\n",
      "Submitted via : 6\n",
      "Company response to consumer : 7\n",
      "Timely response? : 2\n",
      "Consumer disputed? : 2\n"
     ]
    }
   ],
   "source": [
    "for col in cd_train.select_dtypes(['object']).columns:\n",
    "    print(col,':',cd_train[col].nunique())"
   ]
  },
  {
   "cell_type": "code",
   "execution_count": 13,
   "metadata": {},
   "outputs": [],
   "source": [
    "for col in ['ZIP code','Company']:\n",
    "    cd_train.drop([col],axis=1,inplace=True)\n",
    "    cd_test.drop([col],axis=1,inplace=True)"
   ]
  },
  {
   "cell_type": "code",
   "execution_count": 14,
   "metadata": {},
   "outputs": [],
   "source": [
    "#cd_train['Consumer disputed?']=np.where(cd_train['Consumer disputed?']==\"Yes\",1,0)"
   ]
  },
  {
   "cell_type": "code",
   "execution_count": 15,
   "metadata": {},
   "outputs": [],
   "source": [
    "k=cd_train['Issue'].value_counts()\n",
    "for val in k.axes[0][0:10]:\n",
    "    varname='Issue_'+val.replace(',','_').replace(' ','_')\n",
    "    cd_train[varname]=np.where(cd_train['Issue']==val,1,0)\n",
    "    cd_test[varname]=np.where(cd_test['Issue']==val,1,0)\n",
    "del cd_train['Issue']\n",
    "del cd_test['Issue']"
   ]
  },
  {
   "cell_type": "code",
   "execution_count": 16,
   "metadata": {},
   "outputs": [
    {
     "name": "stdout",
     "output_type": "stream",
     "text": [
      "Product : 12\n",
      "State : 62\n",
      "Submitted via : 6\n",
      "Company response to consumer : 7\n",
      "Timely response? : 2\n",
      "Consumer disputed? : 2\n"
     ]
    }
   ],
   "source": [
    "for col in cd_train.select_dtypes(['object']).columns:\n",
    "    print(col,':',cd_train[col].nunique())"
   ]
  },
  {
   "cell_type": "code",
   "execution_count": 17,
   "metadata": {},
   "outputs": [],
   "source": [
    "k=cd_train['State'].value_counts()\n",
    "for val in k.axes[0][0:15]:\n",
    "    varname='State_'+val.replace(',','_').replace(' ','_')\n",
    "    cd_train[varname]=np.where(cd_train['State']==val,1,0)\n",
    "    cd_test[varname]=np.where(cd_test['State']==val,1,0)\n",
    "del cd_train['State']\n",
    "del cd_test['State']"
   ]
  },
  {
   "cell_type": "code",
   "execution_count": 18,
   "metadata": {},
   "outputs": [
    {
     "name": "stdout",
     "output_type": "stream",
     "text": [
      "Product\n",
      "Submitted via\n",
      "Company response to consumer\n",
      "Timely response?\n",
      "Complaint ID\n",
      "day_diff\n",
      "Sub_product_isNan\n",
      "Sub_issue_isNan\n",
      "Consumer_complaint_narrative_isNan\n",
      "Company_public_response_isNan\n",
      "Tags_isNan\n",
      "Consumer_consent_provided_isNan\n",
      "Issue_Loan_modification_collection_foreclosure\n",
      "Issue_Incorrect_information_on_credit_report\n",
      "Issue_Loan_servicing__payments__escrow_account\n",
      "Issue_Cont'd_attempts_collect_debt_not_owed\n",
      "Issue_Account_opening__closing__or_management\n",
      "Issue_Disclosure_verification_of_debt\n",
      "Issue_Communication_tactics\n",
      "Issue_Deposits_and_withdrawals\n",
      "Issue_Application__originator__mortgage_broker\n",
      "Issue_Billing_disputes\n",
      "State_CA\n",
      "State_FL\n",
      "State_TX\n",
      "State_NY\n",
      "State_GA\n",
      "State_NJ\n",
      "State_PA\n",
      "State_IL\n",
      "State_VA\n",
      "State_MD\n",
      "State_OH\n",
      "State_NC\n",
      "State_MI\n",
      "State_AZ\n",
      "State_WA\n"
     ]
    }
   ],
   "source": [
    "for col in cd_test.columns: \n",
    "    print(col)"
   ]
  },
  {
   "cell_type": "code",
   "execution_count": 19,
   "metadata": {},
   "outputs": [],
   "source": [
    "col=['Product','Submitted via','Company response to consumer']\n",
    "cd_train = pd.get_dummies(data=cd_train,columns = col,drop_first=True)\n",
    "\n",
    "cd_test = pd.get_dummies(data=cd_test,columns = col,drop_first=True)\n"
   ]
  },
  {
   "cell_type": "code",
   "execution_count": 20,
   "metadata": {},
   "outputs": [],
   "source": [
    "#Initialize the labelEncoder\n",
    "\n",
    "from sklearn.preprocessing import LabelEncoder\n",
    "le = LabelEncoder()\n",
    "cd_train['Consumer disputed?'] = le.fit_transform(cd_train['Consumer disputed?'])\n",
    "cd_train['Timely response?'] = le.fit_transform(cd_train['Timely response?'])"
   ]
  },
  {
   "cell_type": "code",
   "execution_count": 21,
   "metadata": {},
   "outputs": [],
   "source": [
    "#Initialize the labelEncoder\n",
    "\n",
    "from sklearn.preprocessing import LabelEncoder\n",
    "le = LabelEncoder()\n",
    "cd_test['Timely response?'] = le.fit_transform(cd_test['Timely response?'])"
   ]
  },
  {
   "cell_type": "code",
   "execution_count": 22,
   "metadata": {},
   "outputs": [],
   "source": [
    "x=cd_train.drop(['Consumer disputed?','Complaint ID'],1)\n",
    "y=cd_train['Consumer disputed?']"
   ]
  },
  {
   "cell_type": "markdown",
   "metadata": {},
   "source": [
    "# Logistic Regression"
   ]
  },
  {
   "cell_type": "code",
   "execution_count": 23,
   "metadata": {},
   "outputs": [],
   "source": [
    "from sklearn.linear_model import LogisticRegression"
   ]
  },
  {
   "cell_type": "code",
   "execution_count": 24,
   "metadata": {},
   "outputs": [],
   "source": [
    "clf=LogisticRegression()"
   ]
  },
  {
   "cell_type": "code",
   "execution_count": 25,
   "metadata": {},
   "outputs": [
    {
     "data": {
      "text/plain": [
       "LogisticRegression(C=1.0, class_weight=None, dual=False, fit_intercept=True,\n",
       "                   intercept_scaling=1, l1_ratio=None, max_iter=100,\n",
       "                   multi_class='warn', n_jobs=None, penalty='l2',\n",
       "                   random_state=None, solver='warn', tol=0.0001, verbose=0,\n",
       "                   warm_start=False)"
      ]
     },
     "execution_count": 25,
     "metadata": {},
     "output_type": "execute_result"
    }
   ],
   "source": [
    "clf.fit(x,y)"
   ]
  },
  {
   "cell_type": "code",
   "execution_count": 26,
   "metadata": {},
   "outputs": [],
   "source": [
    "# Prediction\n",
    "prediction=clf.predict(x)"
   ]
  },
  {
   "cell_type": "code",
   "execution_count": 27,
   "metadata": {},
   "outputs": [
    {
     "name": "stdout",
     "output_type": "stream",
     "text": [
      "Accuracy: 0.7814895249163394\n"
     ]
    }
   ],
   "source": [
    "#Import scikit-learn metrics module for accuracy calculation\n",
    "from sklearn import metrics\n",
    "# Model Accuracy, how often is the classifier correct?\n",
    "print(\"Accuracy:\",metrics.accuracy_score(y,prediction))"
   ]
  },
  {
   "cell_type": "code",
   "execution_count": 28,
   "metadata": {},
   "outputs": [
    {
     "data": {
      "text/plain": [
       "0.5002183614410464"
      ]
     },
     "execution_count": 28,
     "metadata": {},
     "output_type": "execute_result"
    }
   ],
   "source": [
    "from sklearn.metrics import roc_curve, roc_auc_score\n",
    "roc_auc_score(y, clf.predict(x))"
   ]
  },
  {
   "cell_type": "markdown",
   "metadata": {},
   "source": [
    "# Random Forest Classifier"
   ]
  },
  {
   "cell_type": "code",
   "execution_count": 29,
   "metadata": {},
   "outputs": [],
   "source": [
    "#Import Random Forest Model\n",
    "from sklearn.ensemble import RandomForestClassifier"
   ]
  },
  {
   "cell_type": "code",
   "execution_count": 30,
   "metadata": {},
   "outputs": [],
   "source": [
    "#Create a Gaussian Classifier\n",
    "clf2=RandomForestClassifier(n_estimators=100)"
   ]
  },
  {
   "cell_type": "code",
   "execution_count": 31,
   "metadata": {},
   "outputs": [
    {
     "data": {
      "text/plain": [
       "RandomForestClassifier(bootstrap=True, class_weight=None, criterion='gini',\n",
       "                       max_depth=None, max_features='auto', max_leaf_nodes=None,\n",
       "                       min_impurity_decrease=0.0, min_impurity_split=None,\n",
       "                       min_samples_leaf=1, min_samples_split=2,\n",
       "                       min_weight_fraction_leaf=0.0, n_estimators=100,\n",
       "                       n_jobs=None, oob_score=False, random_state=None,\n",
       "                       verbose=0, warm_start=False)"
      ]
     },
     "execution_count": 31,
     "metadata": {},
     "output_type": "execute_result"
    }
   ],
   "source": [
    "#Train the model using the training sets y_pred=clf.predict(X_test)\n",
    "clf2.fit(x,y)"
   ]
  },
  {
   "cell_type": "code",
   "execution_count": 32,
   "metadata": {},
   "outputs": [],
   "source": [
    "y_pred=clf2.predict(x)"
   ]
  },
  {
   "cell_type": "code",
   "execution_count": 33,
   "metadata": {},
   "outputs": [
    {
     "name": "stdout",
     "output_type": "stream",
     "text": [
      "Accuracy: 0.7814895249163394\n"
     ]
    }
   ],
   "source": [
    "#Import scikit-learn metrics module for accuracy calculation\n",
    "from sklearn import metrics\n",
    "# Model Accuracy, how often is the classifier correct?\n",
    "print(\"Accuracy:\",metrics.accuracy_score(y,prediction))"
   ]
  },
  {
   "cell_type": "code",
   "execution_count": 34,
   "metadata": {},
   "outputs": [
    {
     "data": {
      "text/plain": [
       "0.5819283934768472"
      ]
     },
     "execution_count": 34,
     "metadata": {},
     "output_type": "execute_result"
    }
   ],
   "source": [
    "from sklearn.metrics import roc_curve, roc_auc_score\n",
    "roc_auc_score(y, clf2.predict(x))"
   ]
  },
  {
   "cell_type": "code",
   "execution_count": 35,
   "metadata": {},
   "outputs": [],
   "source": [
    "prediction=np.where(clf2.predict(cd_test.drop(['Complaint ID'],1))==1,\"Yes\",\"No\")\n",
    "submission=pd.DataFrame(list(zip(cd_test['Complaint ID'],list(prediction))),\n",
    "                       columns=['Complaint ID','Consumer disputed?'])"
   ]
  },
  {
   "cell_type": "code",
   "execution_count": 36,
   "metadata": {},
   "outputs": [
    {
     "data": {
      "text/html": [
       "<div>\n",
       "<style scoped>\n",
       "    .dataframe tbody tr th:only-of-type {\n",
       "        vertical-align: middle;\n",
       "    }\n",
       "\n",
       "    .dataframe tbody tr th {\n",
       "        vertical-align: top;\n",
       "    }\n",
       "\n",
       "    .dataframe thead th {\n",
       "        text-align: right;\n",
       "    }\n",
       "</style>\n",
       "<table border=\"1\" class=\"dataframe\">\n",
       "  <thead>\n",
       "    <tr style=\"text-align: right;\">\n",
       "      <th></th>\n",
       "      <th>Complaint ID</th>\n",
       "      <th>Consumer disputed?</th>\n",
       "    </tr>\n",
       "  </thead>\n",
       "  <tbody>\n",
       "    <tr>\n",
       "      <th>0</th>\n",
       "      <td>675956</td>\n",
       "      <td>No</td>\n",
       "    </tr>\n",
       "    <tr>\n",
       "      <th>1</th>\n",
       "      <td>1858795</td>\n",
       "      <td>No</td>\n",
       "    </tr>\n",
       "    <tr>\n",
       "      <th>2</th>\n",
       "      <td>32637</td>\n",
       "      <td>No</td>\n",
       "    </tr>\n",
       "    <tr>\n",
       "      <th>3</th>\n",
       "      <td>1731374</td>\n",
       "      <td>No</td>\n",
       "    </tr>\n",
       "  </tbody>\n",
       "</table>\n",
       "</div>"
      ],
      "text/plain": [
       "   Complaint ID Consumer disputed?\n",
       "0        675956                 No\n",
       "1       1858795                 No\n",
       "2         32637                 No\n",
       "3       1731374                 No"
      ]
     },
     "execution_count": 36,
     "metadata": {},
     "output_type": "execute_result"
    }
   ],
   "source": [
    "submission.head(4)"
   ]
  },
  {
   "cell_type": "code",
   "execution_count": 37,
   "metadata": {},
   "outputs": [],
   "source": [
    "submission.to_csv('sample_submission.csv',index=False)"
   ]
  },
  {
   "cell_type": "markdown",
   "metadata": {},
   "source": [
    "This submission will get you auc score of approx 0.50, slightly less than whats required for passing the course. You'll have to make changes "
   ]
  },
  {
   "cell_type": "markdown",
   "metadata": {},
   "source": [
    "# Finally roc auc score is achieved 0.58 from Random Forest Classifier"
   ]
  }
 ],
 "metadata": {
  "kernelspec": {
   "display_name": "Python 3",
   "language": "python",
   "name": "python3"
  },
  "language_info": {
   "codemirror_mode": {
    "name": "ipython",
    "version": 3
   },
   "file_extension": ".py",
   "mimetype": "text/x-python",
   "name": "python",
   "nbconvert_exporter": "python",
   "pygments_lexer": "ipython3",
   "version": "3.7.4"
  }
 },
 "nbformat": 4,
 "nbformat_minor": 1
}
