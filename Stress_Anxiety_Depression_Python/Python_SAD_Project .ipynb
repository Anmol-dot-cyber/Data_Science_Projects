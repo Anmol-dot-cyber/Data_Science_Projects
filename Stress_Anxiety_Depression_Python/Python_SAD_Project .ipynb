{
 "cells": [
  {
   "cell_type": "code",
   "execution_count": 1,
   "metadata": {},
   "outputs": [
    {
     "data": {
      "text/html": [
       "<div>\n",
       "<style scoped>\n",
       "    .dataframe tbody tr th:only-of-type {\n",
       "        vertical-align: middle;\n",
       "    }\n",
       "\n",
       "    .dataframe tbody tr th {\n",
       "        vertical-align: top;\n",
       "    }\n",
       "\n",
       "    .dataframe thead th {\n",
       "        text-align: right;\n",
       "    }\n",
       "</style>\n",
       "<table border=\"1\" class=\"dataframe\">\n",
       "  <thead>\n",
       "    <tr style=\"text-align: right;\">\n",
       "      <th></th>\n",
       "      <th>Stress</th>\n",
       "      <th>Anxiety</th>\n",
       "      <th>Depression</th>\n",
       "      <th>Anxiety.1</th>\n",
       "      <th>Depression.1</th>\n",
       "      <th>Stress.1</th>\n",
       "      <th>Anxiety.2</th>\n",
       "      <th>Stress.2</th>\n",
       "      <th>Anxiety.3</th>\n",
       "      <th>Depression.2</th>\n",
       "      <th>...</th>\n",
       "      <th>Stress.5</th>\n",
       "      <th>Anxiety.4</th>\n",
       "      <th>Depression.4</th>\n",
       "      <th>Depression.5</th>\n",
       "      <th>Stress.6</th>\n",
       "      <th>Anxiety.5</th>\n",
       "      <th>Anxiety.6</th>\n",
       "      <th>Depression.6</th>\n",
       "      <th>Full Name</th>\n",
       "      <th>Gender</th>\n",
       "    </tr>\n",
       "  </thead>\n",
       "  <tbody>\n",
       "    <tr>\n",
       "      <th>0</th>\n",
       "      <td>2</td>\n",
       "      <td>3</td>\n",
       "      <td>1</td>\n",
       "      <td>2</td>\n",
       "      <td>1</td>\n",
       "      <td>0</td>\n",
       "      <td>1</td>\n",
       "      <td>2</td>\n",
       "      <td>1</td>\n",
       "      <td>1</td>\n",
       "      <td>...</td>\n",
       "      <td>1</td>\n",
       "      <td>2</td>\n",
       "      <td>0</td>\n",
       "      <td>0</td>\n",
       "      <td>3</td>\n",
       "      <td>2.0</td>\n",
       "      <td>1</td>\n",
       "      <td>0</td>\n",
       "      <td>Anu Priya</td>\n",
       "      <td>F</td>\n",
       "    </tr>\n",
       "    <tr>\n",
       "      <th>1</th>\n",
       "      <td>0</td>\n",
       "      <td>1</td>\n",
       "      <td>1</td>\n",
       "      <td>0</td>\n",
       "      <td>1</td>\n",
       "      <td>2</td>\n",
       "      <td>0</td>\n",
       "      <td>1</td>\n",
       "      <td>1</td>\n",
       "      <td>1</td>\n",
       "      <td>...</td>\n",
       "      <td>1</td>\n",
       "      <td>1</td>\n",
       "      <td>1</td>\n",
       "      <td>1</td>\n",
       "      <td>1</td>\n",
       "      <td>1.0</td>\n",
       "      <td>0</td>\n",
       "      <td>1</td>\n",
       "      <td>Anubha</td>\n",
       "      <td>F</td>\n",
       "    </tr>\n",
       "    <tr>\n",
       "      <th>2</th>\n",
       "      <td>3</td>\n",
       "      <td>0</td>\n",
       "      <td>2</td>\n",
       "      <td>0</td>\n",
       "      <td>2</td>\n",
       "      <td>0</td>\n",
       "      <td>0</td>\n",
       "      <td>1</td>\n",
       "      <td>1</td>\n",
       "      <td>1</td>\n",
       "      <td>...</td>\n",
       "      <td>1</td>\n",
       "      <td>1</td>\n",
       "      <td>1</td>\n",
       "      <td>1</td>\n",
       "      <td>1</td>\n",
       "      <td>0.0</td>\n",
       "      <td>0</td>\n",
       "      <td>3</td>\n",
       "      <td>Monalisha sinha</td>\n",
       "      <td>F</td>\n",
       "    </tr>\n",
       "    <tr>\n",
       "      <th>3</th>\n",
       "      <td>1</td>\n",
       "      <td>1</td>\n",
       "      <td>0</td>\n",
       "      <td>0</td>\n",
       "      <td>0</td>\n",
       "      <td>0</td>\n",
       "      <td>1</td>\n",
       "      <td>0</td>\n",
       "      <td>1</td>\n",
       "      <td>2</td>\n",
       "      <td>...</td>\n",
       "      <td>1</td>\n",
       "      <td>0</td>\n",
       "      <td>1</td>\n",
       "      <td>0</td>\n",
       "      <td>0</td>\n",
       "      <td>0.0</td>\n",
       "      <td>1</td>\n",
       "      <td>0</td>\n",
       "      <td>Mkm</td>\n",
       "      <td>M</td>\n",
       "    </tr>\n",
       "    <tr>\n",
       "      <th>4</th>\n",
       "      <td>1</td>\n",
       "      <td>1</td>\n",
       "      <td>3</td>\n",
       "      <td>0</td>\n",
       "      <td>2</td>\n",
       "      <td>1</td>\n",
       "      <td>2</td>\n",
       "      <td>2</td>\n",
       "      <td>0</td>\n",
       "      <td>3</td>\n",
       "      <td>...</td>\n",
       "      <td>2</td>\n",
       "      <td>0</td>\n",
       "      <td>2</td>\n",
       "      <td>3</td>\n",
       "      <td>0</td>\n",
       "      <td>1.0</td>\n",
       "      <td>1</td>\n",
       "      <td>3</td>\n",
       "      <td>Debasmita Maiti</td>\n",
       "      <td>F</td>\n",
       "    </tr>\n",
       "  </tbody>\n",
       "</table>\n",
       "<p>5 rows × 23 columns</p>\n",
       "</div>"
      ],
      "text/plain": [
       "   Stress  Anxiety  Depression  Anxiety.1  Depression.1  Stress.1  Anxiety.2  \\\n",
       "0       2        3           1          2             1         0          1   \n",
       "1       0        1           1          0             1         2          0   \n",
       "2       3        0           2          0             2         0          0   \n",
       "3       1        1           0          0             0         0          1   \n",
       "4       1        1           3          0             2         1          2   \n",
       "\n",
       "   Stress.2  Anxiety.3  Depression.2  ...  Stress.5  Anxiety.4  Depression.4  \\\n",
       "0         2          1             1  ...         1          2             0   \n",
       "1         1          1             1  ...         1          1             1   \n",
       "2         1          1             1  ...         1          1             1   \n",
       "3         0          1             2  ...         1          0             1   \n",
       "4         2          0             3  ...         2          0             2   \n",
       "\n",
       "   Depression.5  Stress.6  Anxiety.5  Anxiety.6  Depression.6  \\\n",
       "0             0         3        2.0          1             0   \n",
       "1             1         1        1.0          0             1   \n",
       "2             1         1        0.0          0             3   \n",
       "3             0         0        0.0          1             0   \n",
       "4             3         0        1.0          1             3   \n",
       "\n",
       "         Full Name  Gender  \n",
       "0        Anu Priya       F  \n",
       "1           Anubha       F  \n",
       "2  Monalisha sinha       F  \n",
       "3              Mkm       M  \n",
       "4  Debasmita Maiti       F  \n",
       "\n",
       "[5 rows x 23 columns]"
      ]
     },
     "execution_count": 1,
     "metadata": {},
     "output_type": "execute_result"
    }
   ],
   "source": [
    "data_file=r'C:\\Users\\Anmol\\Desktop\\Project\\Train_Data_SAD.csv'\n",
    "\n",
    "import pandas as pd\n",
    "import math\n",
    "from sklearn.model_selection import train_test_split,cross_val_score\n",
    "from sklearn.linear_model import LinearRegression, Lasso, Ridge\n",
    "import numpy as np\n",
    "from sklearn.model_selection import KFold\n",
    "%matplotlib inline\n",
    "from sklearn.preprocessing import LabelEncoder\n",
    "\n",
    "\n",
    "## Train Data Set\n",
    "Train_ld=pd.read_csv(data_file)\n",
    "Train_ld.head()"
   ]
  },
  {
   "cell_type": "code",
   "execution_count": 2,
   "metadata": {},
   "outputs": [
    {
     "data": {
      "text/plain": [
       "(116, 23)"
      ]
     },
     "execution_count": 2,
     "metadata": {},
     "output_type": "execute_result"
    }
   ],
   "source": [
    "Train_ld.shape"
   ]
  },
  {
   "cell_type": "code",
   "execution_count": 3,
   "metadata": {},
   "outputs": [
    {
     "data": {
      "text/plain": [
       "Stress            int64\n",
       "Anxiety           int64\n",
       "Depression        int64\n",
       "Anxiety.1         int64\n",
       "Depression.1      int64\n",
       "Stress.1          int64\n",
       "Anxiety.2         int64\n",
       "Stress.2          int64\n",
       "Anxiety.3         int64\n",
       "Depression.2      int64\n",
       "Stress.3          int64\n",
       "Stress.4          int64\n",
       "Depression.3    float64\n",
       "Stress.5          int64\n",
       "Anxiety.4         int64\n",
       "Depression.4      int64\n",
       "Depression.5      int64\n",
       "Stress.6          int64\n",
       "Anxiety.5       float64\n",
       "Anxiety.6         int64\n",
       "Depression.6      int64\n",
       "Full Name        object\n",
       "Gender           object\n",
       "dtype: object"
      ]
     },
     "execution_count": 3,
     "metadata": {},
     "output_type": "execute_result"
    }
   ],
   "source": [
    "Train_ld.dtypes"
   ]
  },
  {
   "cell_type": "code",
   "execution_count": 4,
   "metadata": {},
   "outputs": [
    {
     "name": "stdout",
     "output_type": "stream",
     "text": [
      "Index(['Stress', 'Anxiety', 'Depression', 'Anxiety.1', 'Depression.1',\n",
      "       'Stress.1', 'Anxiety.2', 'Stress.2', 'Anxiety.3', 'Depression.2',\n",
      "       'Stress.3', 'Stress.4', 'Depression.3', 'Stress.5', 'Anxiety.4',\n",
      "       'Depression.4', 'Depression.5', 'Stress.6', 'Anxiety.5', 'Anxiety.6',\n",
      "       'Depression.6', 'Full Name', 'Gender'],\n",
      "      dtype='object')\n"
     ]
    }
   ],
   "source": [
    "print(Train_ld.columns)"
   ]
  },
  {
   "cell_type": "code",
   "execution_count": 5,
   "metadata": {},
   "outputs": [
    {
     "data": {
      "text/plain": [
       "Stress          0\n",
       "Anxiety         0\n",
       "Depression      0\n",
       "Anxiety.1       0\n",
       "Depression.1    0\n",
       "Stress.1        0\n",
       "Anxiety.2       0\n",
       "Stress.2        0\n",
       "Anxiety.3       0\n",
       "Depression.2    0\n",
       "Stress.3        0\n",
       "Stress.4        0\n",
       "Depression.3    1\n",
       "Stress.5        0\n",
       "Anxiety.4       0\n",
       "Depression.4    0\n",
       "Depression.5    0\n",
       "Stress.6        0\n",
       "Anxiety.5       1\n",
       "Anxiety.6       0\n",
       "Depression.6    0\n",
       "Full Name       0\n",
       "Gender          0\n",
       "dtype: int64"
      ]
     },
     "execution_count": 5,
     "metadata": {},
     "output_type": "execute_result"
    }
   ],
   "source": [
    "Train_ld.isnull().sum()"
   ]
  },
  {
   "cell_type": "code",
   "execution_count": 6,
   "metadata": {},
   "outputs": [
    {
     "data": {
      "text/plain": [
       "Stress          0\n",
       "Anxiety         0\n",
       "Depression      0\n",
       "Anxiety.1       0\n",
       "Depression.1    0\n",
       "Stress.1        0\n",
       "Anxiety.2       0\n",
       "Stress.2        0\n",
       "Anxiety.3       0\n",
       "Depression.2    0\n",
       "Stress.3        0\n",
       "Stress.4        0\n",
       "Depression.3    0\n",
       "Stress.5        0\n",
       "Anxiety.4       0\n",
       "Depression.4    0\n",
       "Depression.5    0\n",
       "Stress.6        0\n",
       "Anxiety.5       0\n",
       "Anxiety.6       0\n",
       "Depression.6    0\n",
       "Full Name       0\n",
       "Gender          0\n",
       "dtype: int64"
      ]
     },
     "execution_count": 6,
     "metadata": {},
     "output_type": "execute_result"
    }
   ],
   "source": [
    "Train_ld['Depression.3'] = Train_ld['Depression.3'].fillna(Train_ld['Depression.3'].mode()[0])\n",
    "Train_ld['Anxiety.5'] = Train_ld['Anxiety.5'].fillna(Train_ld['Anxiety.5'].mode()[0])\n",
    "Train_ld.isnull().sum()"
   ]
  },
  {
   "cell_type": "code",
   "execution_count": 7,
   "metadata": {},
   "outputs": [
    {
     "data": {
      "text/plain": [
       "Stress           int64\n",
       "Anxiety          int64\n",
       "Depression       int64\n",
       "Anxiety.1        int64\n",
       "Depression.1     int64\n",
       "Stress.1         int64\n",
       "Anxiety.2        int64\n",
       "Stress.2         int64\n",
       "Anxiety.3        int64\n",
       "Depression.2     int64\n",
       "Stress.3         int64\n",
       "Stress.4         int64\n",
       "Depression.3     int64\n",
       "Stress.5         int64\n",
       "Anxiety.4        int64\n",
       "Depression.4     int64\n",
       "Depression.5     int64\n",
       "Stress.6         int64\n",
       "Anxiety.5        int64\n",
       "Anxiety.6        int64\n",
       "Depression.6     int64\n",
       "Full Name       object\n",
       "Gender          object\n",
       "dtype: object"
      ]
     },
     "execution_count": 7,
     "metadata": {},
     "output_type": "execute_result"
    }
   ],
   "source": [
    "Train_ld['Depression.3'] = Train_ld['Depression.3'].apply(np.int64)\n",
    "Train_ld['Anxiety.5'] = Train_ld['Anxiety.5'].apply(np.int64)\n",
    "Train_ld.dtypes"
   ]
  },
  {
   "cell_type": "code",
   "execution_count": 8,
   "metadata": {},
   "outputs": [
    {
     "data": {
      "text/html": [
       "<div>\n",
       "<style scoped>\n",
       "    .dataframe tbody tr th:only-of-type {\n",
       "        vertical-align: middle;\n",
       "    }\n",
       "\n",
       "    .dataframe tbody tr th {\n",
       "        vertical-align: top;\n",
       "    }\n",
       "\n",
       "    .dataframe thead th {\n",
       "        text-align: right;\n",
       "    }\n",
       "</style>\n",
       "<table border=\"1\" class=\"dataframe\">\n",
       "  <thead>\n",
       "    <tr style=\"text-align: right;\">\n",
       "      <th></th>\n",
       "      <th>Stress</th>\n",
       "      <th>Anxiety</th>\n",
       "      <th>Depression</th>\n",
       "      <th>Anxiety.1</th>\n",
       "      <th>Depression.1</th>\n",
       "      <th>Stress.1</th>\n",
       "      <th>Anxiety.2</th>\n",
       "      <th>Stress.2</th>\n",
       "      <th>Anxiety.3</th>\n",
       "      <th>Depression.2</th>\n",
       "      <th>...</th>\n",
       "      <th>Depression.3</th>\n",
       "      <th>Stress.5</th>\n",
       "      <th>Anxiety.4</th>\n",
       "      <th>Depression.4</th>\n",
       "      <th>Depression.5</th>\n",
       "      <th>Stress.6</th>\n",
       "      <th>Anxiety.5</th>\n",
       "      <th>Anxiety.6</th>\n",
       "      <th>Depression.6</th>\n",
       "      <th>Gender</th>\n",
       "    </tr>\n",
       "  </thead>\n",
       "  <tbody>\n",
       "    <tr>\n",
       "      <th>0</th>\n",
       "      <td>2</td>\n",
       "      <td>3</td>\n",
       "      <td>1</td>\n",
       "      <td>2</td>\n",
       "      <td>1</td>\n",
       "      <td>0</td>\n",
       "      <td>1</td>\n",
       "      <td>2</td>\n",
       "      <td>1</td>\n",
       "      <td>1</td>\n",
       "      <td>...</td>\n",
       "      <td>1</td>\n",
       "      <td>1</td>\n",
       "      <td>2</td>\n",
       "      <td>0</td>\n",
       "      <td>0</td>\n",
       "      <td>3</td>\n",
       "      <td>2</td>\n",
       "      <td>1</td>\n",
       "      <td>0</td>\n",
       "      <td>F</td>\n",
       "    </tr>\n",
       "    <tr>\n",
       "      <th>1</th>\n",
       "      <td>0</td>\n",
       "      <td>1</td>\n",
       "      <td>1</td>\n",
       "      <td>0</td>\n",
       "      <td>1</td>\n",
       "      <td>2</td>\n",
       "      <td>0</td>\n",
       "      <td>1</td>\n",
       "      <td>1</td>\n",
       "      <td>1</td>\n",
       "      <td>...</td>\n",
       "      <td>1</td>\n",
       "      <td>1</td>\n",
       "      <td>1</td>\n",
       "      <td>1</td>\n",
       "      <td>1</td>\n",
       "      <td>1</td>\n",
       "      <td>1</td>\n",
       "      <td>0</td>\n",
       "      <td>1</td>\n",
       "      <td>F</td>\n",
       "    </tr>\n",
       "    <tr>\n",
       "      <th>2</th>\n",
       "      <td>3</td>\n",
       "      <td>0</td>\n",
       "      <td>2</td>\n",
       "      <td>0</td>\n",
       "      <td>2</td>\n",
       "      <td>0</td>\n",
       "      <td>0</td>\n",
       "      <td>1</td>\n",
       "      <td>1</td>\n",
       "      <td>1</td>\n",
       "      <td>...</td>\n",
       "      <td>2</td>\n",
       "      <td>1</td>\n",
       "      <td>1</td>\n",
       "      <td>1</td>\n",
       "      <td>1</td>\n",
       "      <td>1</td>\n",
       "      <td>0</td>\n",
       "      <td>0</td>\n",
       "      <td>3</td>\n",
       "      <td>F</td>\n",
       "    </tr>\n",
       "    <tr>\n",
       "      <th>3</th>\n",
       "      <td>1</td>\n",
       "      <td>1</td>\n",
       "      <td>0</td>\n",
       "      <td>0</td>\n",
       "      <td>0</td>\n",
       "      <td>0</td>\n",
       "      <td>1</td>\n",
       "      <td>0</td>\n",
       "      <td>1</td>\n",
       "      <td>2</td>\n",
       "      <td>...</td>\n",
       "      <td>1</td>\n",
       "      <td>1</td>\n",
       "      <td>0</td>\n",
       "      <td>1</td>\n",
       "      <td>0</td>\n",
       "      <td>0</td>\n",
       "      <td>0</td>\n",
       "      <td>1</td>\n",
       "      <td>0</td>\n",
       "      <td>M</td>\n",
       "    </tr>\n",
       "    <tr>\n",
       "      <th>4</th>\n",
       "      <td>1</td>\n",
       "      <td>1</td>\n",
       "      <td>3</td>\n",
       "      <td>0</td>\n",
       "      <td>2</td>\n",
       "      <td>1</td>\n",
       "      <td>2</td>\n",
       "      <td>2</td>\n",
       "      <td>0</td>\n",
       "      <td>3</td>\n",
       "      <td>...</td>\n",
       "      <td>1</td>\n",
       "      <td>2</td>\n",
       "      <td>0</td>\n",
       "      <td>2</td>\n",
       "      <td>3</td>\n",
       "      <td>0</td>\n",
       "      <td>1</td>\n",
       "      <td>1</td>\n",
       "      <td>3</td>\n",
       "      <td>F</td>\n",
       "    </tr>\n",
       "  </tbody>\n",
       "</table>\n",
       "<p>5 rows × 22 columns</p>\n",
       "</div>"
      ],
      "text/plain": [
       "   Stress  Anxiety  Depression  Anxiety.1  Depression.1  Stress.1  Anxiety.2  \\\n",
       "0       2        3           1          2             1         0          1   \n",
       "1       0        1           1          0             1         2          0   \n",
       "2       3        0           2          0             2         0          0   \n",
       "3       1        1           0          0             0         0          1   \n",
       "4       1        1           3          0             2         1          2   \n",
       "\n",
       "   Stress.2  Anxiety.3  Depression.2  ...  Depression.3  Stress.5  Anxiety.4  \\\n",
       "0         2          1             1  ...             1         1          2   \n",
       "1         1          1             1  ...             1         1          1   \n",
       "2         1          1             1  ...             2         1          1   \n",
       "3         0          1             2  ...             1         1          0   \n",
       "4         2          0             3  ...             1         2          0   \n",
       "\n",
       "   Depression.4  Depression.5  Stress.6  Anxiety.5  Anxiety.6  Depression.6  \\\n",
       "0             0             0         3          2          1             0   \n",
       "1             1             1         1          1          0             1   \n",
       "2             1             1         1          0          0             3   \n",
       "3             1             0         0          0          1             0   \n",
       "4             2             3         0          1          1             3   \n",
       "\n",
       "   Gender  \n",
       "0       F  \n",
       "1       F  \n",
       "2       F  \n",
       "3       M  \n",
       "4       F  \n",
       "\n",
       "[5 rows x 22 columns]"
      ]
     },
     "execution_count": 8,
     "metadata": {},
     "output_type": "execute_result"
    }
   ],
   "source": [
    "Train_ld.drop('Full Name', axis=1, inplace=True)\n",
    "Train_ld.head()"
   ]
  },
  {
   "cell_type": "code",
   "execution_count": 9,
   "metadata": {},
   "outputs": [
    {
     "data": {
      "text/html": [
       "<div>\n",
       "<style scoped>\n",
       "    .dataframe tbody tr th:only-of-type {\n",
       "        vertical-align: middle;\n",
       "    }\n",
       "\n",
       "    .dataframe tbody tr th {\n",
       "        vertical-align: top;\n",
       "    }\n",
       "\n",
       "    .dataframe thead th {\n",
       "        text-align: right;\n",
       "    }\n",
       "</style>\n",
       "<table border=\"1\" class=\"dataframe\">\n",
       "  <thead>\n",
       "    <tr style=\"text-align: right;\">\n",
       "      <th></th>\n",
       "      <th>Stress</th>\n",
       "      <th>Anxiety</th>\n",
       "      <th>Depression</th>\n",
       "      <th>Anxiety.1</th>\n",
       "      <th>Depression.1</th>\n",
       "      <th>Stress.1</th>\n",
       "      <th>Anxiety.2</th>\n",
       "      <th>Stress.2</th>\n",
       "      <th>Anxiety.3</th>\n",
       "      <th>Depression.2</th>\n",
       "      <th>...</th>\n",
       "      <th>Depression.3</th>\n",
       "      <th>Stress.5</th>\n",
       "      <th>Anxiety.4</th>\n",
       "      <th>Depression.4</th>\n",
       "      <th>Depression.5</th>\n",
       "      <th>Stress.6</th>\n",
       "      <th>Anxiety.5</th>\n",
       "      <th>Anxiety.6</th>\n",
       "      <th>Depression.6</th>\n",
       "      <th>Gender</th>\n",
       "    </tr>\n",
       "  </thead>\n",
       "  <tbody>\n",
       "    <tr>\n",
       "      <th>0</th>\n",
       "      <td>2</td>\n",
       "      <td>3</td>\n",
       "      <td>1</td>\n",
       "      <td>2</td>\n",
       "      <td>1</td>\n",
       "      <td>0</td>\n",
       "      <td>1</td>\n",
       "      <td>2</td>\n",
       "      <td>1</td>\n",
       "      <td>1</td>\n",
       "      <td>...</td>\n",
       "      <td>1</td>\n",
       "      <td>1</td>\n",
       "      <td>2</td>\n",
       "      <td>0</td>\n",
       "      <td>0</td>\n",
       "      <td>3</td>\n",
       "      <td>2</td>\n",
       "      <td>1</td>\n",
       "      <td>0</td>\n",
       "      <td>2</td>\n",
       "    </tr>\n",
       "    <tr>\n",
       "      <th>1</th>\n",
       "      <td>0</td>\n",
       "      <td>1</td>\n",
       "      <td>1</td>\n",
       "      <td>0</td>\n",
       "      <td>1</td>\n",
       "      <td>2</td>\n",
       "      <td>0</td>\n",
       "      <td>1</td>\n",
       "      <td>1</td>\n",
       "      <td>1</td>\n",
       "      <td>...</td>\n",
       "      <td>1</td>\n",
       "      <td>1</td>\n",
       "      <td>1</td>\n",
       "      <td>1</td>\n",
       "      <td>1</td>\n",
       "      <td>1</td>\n",
       "      <td>1</td>\n",
       "      <td>0</td>\n",
       "      <td>1</td>\n",
       "      <td>2</td>\n",
       "    </tr>\n",
       "    <tr>\n",
       "      <th>2</th>\n",
       "      <td>3</td>\n",
       "      <td>0</td>\n",
       "      <td>2</td>\n",
       "      <td>0</td>\n",
       "      <td>2</td>\n",
       "      <td>0</td>\n",
       "      <td>0</td>\n",
       "      <td>1</td>\n",
       "      <td>1</td>\n",
       "      <td>1</td>\n",
       "      <td>...</td>\n",
       "      <td>2</td>\n",
       "      <td>1</td>\n",
       "      <td>1</td>\n",
       "      <td>1</td>\n",
       "      <td>1</td>\n",
       "      <td>1</td>\n",
       "      <td>0</td>\n",
       "      <td>0</td>\n",
       "      <td>3</td>\n",
       "      <td>2</td>\n",
       "    </tr>\n",
       "    <tr>\n",
       "      <th>3</th>\n",
       "      <td>1</td>\n",
       "      <td>1</td>\n",
       "      <td>0</td>\n",
       "      <td>0</td>\n",
       "      <td>0</td>\n",
       "      <td>0</td>\n",
       "      <td>1</td>\n",
       "      <td>0</td>\n",
       "      <td>1</td>\n",
       "      <td>2</td>\n",
       "      <td>...</td>\n",
       "      <td>1</td>\n",
       "      <td>1</td>\n",
       "      <td>0</td>\n",
       "      <td>1</td>\n",
       "      <td>0</td>\n",
       "      <td>0</td>\n",
       "      <td>0</td>\n",
       "      <td>1</td>\n",
       "      <td>0</td>\n",
       "      <td>1</td>\n",
       "    </tr>\n",
       "    <tr>\n",
       "      <th>4</th>\n",
       "      <td>1</td>\n",
       "      <td>1</td>\n",
       "      <td>3</td>\n",
       "      <td>0</td>\n",
       "      <td>2</td>\n",
       "      <td>1</td>\n",
       "      <td>2</td>\n",
       "      <td>2</td>\n",
       "      <td>0</td>\n",
       "      <td>3</td>\n",
       "      <td>...</td>\n",
       "      <td>1</td>\n",
       "      <td>2</td>\n",
       "      <td>0</td>\n",
       "      <td>2</td>\n",
       "      <td>3</td>\n",
       "      <td>0</td>\n",
       "      <td>1</td>\n",
       "      <td>1</td>\n",
       "      <td>3</td>\n",
       "      <td>2</td>\n",
       "    </tr>\n",
       "  </tbody>\n",
       "</table>\n",
       "<p>5 rows × 22 columns</p>\n",
       "</div>"
      ],
      "text/plain": [
       "   Stress  Anxiety  Depression  Anxiety.1  Depression.1  Stress.1  Anxiety.2  \\\n",
       "0       2        3           1          2             1         0          1   \n",
       "1       0        1           1          0             1         2          0   \n",
       "2       3        0           2          0             2         0          0   \n",
       "3       1        1           0          0             0         0          1   \n",
       "4       1        1           3          0             2         1          2   \n",
       "\n",
       "   Stress.2  Anxiety.3  Depression.2  ...  Depression.3  Stress.5  Anxiety.4  \\\n",
       "0         2          1             1  ...             1         1          2   \n",
       "1         1          1             1  ...             1         1          1   \n",
       "2         1          1             1  ...             2         1          1   \n",
       "3         0          1             2  ...             1         1          0   \n",
       "4         2          0             3  ...             1         2          0   \n",
       "\n",
       "   Depression.4  Depression.5  Stress.6  Anxiety.5  Anxiety.6  Depression.6  \\\n",
       "0             0             0         3          2          1             0   \n",
       "1             1             1         1          1          0             1   \n",
       "2             1             1         1          0          0             3   \n",
       "3             1             0         0          0          1             0   \n",
       "4             2             3         0          1          1             3   \n",
       "\n",
       "   Gender  \n",
       "0       2  \n",
       "1       2  \n",
       "2       2  \n",
       "3       1  \n",
       "4       2  \n",
       "\n",
       "[5 rows x 22 columns]"
      ]
     },
     "execution_count": 9,
     "metadata": {},
     "output_type": "execute_result"
    }
   ],
   "source": [
    "Gender_Count = {'M': 1,'F': 2}\n",
    "Train_ld.Gender = [Gender_Count[item] for item in Train_ld.Gender] \n",
    "#le = LabelEncoder()\n",
    "#ld['Gender'] = le.fit_transform(ld['Gender'])\n",
    "Train_ld.head()"
   ]
  },
  {
   "cell_type": "code",
   "execution_count": 10,
   "metadata": {},
   "outputs": [],
   "source": [
    "#ld = ld.drop(['Full Name'])"
   ]
  },
  {
   "cell_type": "code",
   "execution_count": 11,
   "metadata": {},
   "outputs": [
    {
     "name": "stdout",
     "output_type": "stream",
     "text": [
      "Index(['Stress', 'Anxiety', 'Depression', 'Anxiety.1', 'Depression.1',\n",
      "       'Stress.1', 'Anxiety.2', 'Stress.2', 'Anxiety.3', 'Depression.2',\n",
      "       'Stress.3', 'Stress.4', 'Depression.3', 'Stress.5', 'Anxiety.4',\n",
      "       'Depression.4', 'Depression.5', 'Stress.6', 'Anxiety.5', 'Anxiety.6',\n",
      "       'Depression.6', 'Gender'],\n",
      "      dtype='object')\n"
     ]
    }
   ],
   "source": [
    "print(Train_ld.columns)"
   ]
  },
  {
   "cell_type": "code",
   "execution_count": 12,
   "metadata": {},
   "outputs": [
    {
     "data": {
      "text/html": [
       "<div>\n",
       "<style scoped>\n",
       "    .dataframe tbody tr th:only-of-type {\n",
       "        vertical-align: middle;\n",
       "    }\n",
       "\n",
       "    .dataframe tbody tr th {\n",
       "        vertical-align: top;\n",
       "    }\n",
       "\n",
       "    .dataframe thead th {\n",
       "        text-align: right;\n",
       "    }\n",
       "</style>\n",
       "<table border=\"1\" class=\"dataframe\">\n",
       "  <thead>\n",
       "    <tr style=\"text-align: right;\">\n",
       "      <th></th>\n",
       "      <th>Stress</th>\n",
       "      <th>Anxiety</th>\n",
       "      <th>Depression</th>\n",
       "      <th>Anxiety.1</th>\n",
       "      <th>Depression.1</th>\n",
       "      <th>Stress.1</th>\n",
       "      <th>Anxiety.2</th>\n",
       "      <th>Stress.2</th>\n",
       "      <th>Anxiety.3</th>\n",
       "      <th>Depression.2</th>\n",
       "      <th>...</th>\n",
       "      <th>Depression.4</th>\n",
       "      <th>Depression.5</th>\n",
       "      <th>Stress.6</th>\n",
       "      <th>Anxiety.5</th>\n",
       "      <th>Anxiety.6</th>\n",
       "      <th>Depression.6</th>\n",
       "      <th>Gender</th>\n",
       "      <th>Total_Stress_Count</th>\n",
       "      <th>Total_Anxiety_Count</th>\n",
       "      <th>Total_Depression_Count</th>\n",
       "    </tr>\n",
       "  </thead>\n",
       "  <tbody>\n",
       "    <tr>\n",
       "      <th>0</th>\n",
       "      <td>2</td>\n",
       "      <td>3</td>\n",
       "      <td>1</td>\n",
       "      <td>2</td>\n",
       "      <td>1</td>\n",
       "      <td>0</td>\n",
       "      <td>1</td>\n",
       "      <td>2</td>\n",
       "      <td>1</td>\n",
       "      <td>1</td>\n",
       "      <td>...</td>\n",
       "      <td>0</td>\n",
       "      <td>0</td>\n",
       "      <td>3</td>\n",
       "      <td>2</td>\n",
       "      <td>1</td>\n",
       "      <td>0</td>\n",
       "      <td>2</td>\n",
       "      <td>26</td>\n",
       "      <td>24</td>\n",
       "      <td>8</td>\n",
       "    </tr>\n",
       "    <tr>\n",
       "      <th>1</th>\n",
       "      <td>0</td>\n",
       "      <td>1</td>\n",
       "      <td>1</td>\n",
       "      <td>0</td>\n",
       "      <td>1</td>\n",
       "      <td>2</td>\n",
       "      <td>0</td>\n",
       "      <td>1</td>\n",
       "      <td>1</td>\n",
       "      <td>1</td>\n",
       "      <td>...</td>\n",
       "      <td>1</td>\n",
       "      <td>1</td>\n",
       "      <td>1</td>\n",
       "      <td>1</td>\n",
       "      <td>0</td>\n",
       "      <td>1</td>\n",
       "      <td>2</td>\n",
       "      <td>14</td>\n",
       "      <td>8</td>\n",
       "      <td>14</td>\n",
       "    </tr>\n",
       "    <tr>\n",
       "      <th>2</th>\n",
       "      <td>3</td>\n",
       "      <td>0</td>\n",
       "      <td>2</td>\n",
       "      <td>0</td>\n",
       "      <td>2</td>\n",
       "      <td>0</td>\n",
       "      <td>0</td>\n",
       "      <td>1</td>\n",
       "      <td>1</td>\n",
       "      <td>1</td>\n",
       "      <td>...</td>\n",
       "      <td>1</td>\n",
       "      <td>1</td>\n",
       "      <td>1</td>\n",
       "      <td>0</td>\n",
       "      <td>0</td>\n",
       "      <td>3</td>\n",
       "      <td>2</td>\n",
       "      <td>20</td>\n",
       "      <td>4</td>\n",
       "      <td>24</td>\n",
       "    </tr>\n",
       "    <tr>\n",
       "      <th>3</th>\n",
       "      <td>1</td>\n",
       "      <td>1</td>\n",
       "      <td>0</td>\n",
       "      <td>0</td>\n",
       "      <td>0</td>\n",
       "      <td>0</td>\n",
       "      <td>1</td>\n",
       "      <td>0</td>\n",
       "      <td>1</td>\n",
       "      <td>2</td>\n",
       "      <td>...</td>\n",
       "      <td>1</td>\n",
       "      <td>0</td>\n",
       "      <td>0</td>\n",
       "      <td>0</td>\n",
       "      <td>1</td>\n",
       "      <td>0</td>\n",
       "      <td>1</td>\n",
       "      <td>8</td>\n",
       "      <td>8</td>\n",
       "      <td>8</td>\n",
       "    </tr>\n",
       "    <tr>\n",
       "      <th>4</th>\n",
       "      <td>1</td>\n",
       "      <td>1</td>\n",
       "      <td>3</td>\n",
       "      <td>0</td>\n",
       "      <td>2</td>\n",
       "      <td>1</td>\n",
       "      <td>2</td>\n",
       "      <td>2</td>\n",
       "      <td>0</td>\n",
       "      <td>3</td>\n",
       "      <td>...</td>\n",
       "      <td>2</td>\n",
       "      <td>3</td>\n",
       "      <td>0</td>\n",
       "      <td>1</td>\n",
       "      <td>1</td>\n",
       "      <td>3</td>\n",
       "      <td>2</td>\n",
       "      <td>12</td>\n",
       "      <td>10</td>\n",
       "      <td>34</td>\n",
       "    </tr>\n",
       "  </tbody>\n",
       "</table>\n",
       "<p>5 rows × 25 columns</p>\n",
       "</div>"
      ],
      "text/plain": [
       "   Stress  Anxiety  Depression  Anxiety.1  Depression.1  Stress.1  Anxiety.2  \\\n",
       "0       2        3           1          2             1         0          1   \n",
       "1       0        1           1          0             1         2          0   \n",
       "2       3        0           2          0             2         0          0   \n",
       "3       1        1           0          0             0         0          1   \n",
       "4       1        1           3          0             2         1          2   \n",
       "\n",
       "   Stress.2  Anxiety.3  Depression.2  ...  Depression.4  Depression.5  \\\n",
       "0         2          1             1  ...             0             0   \n",
       "1         1          1             1  ...             1             1   \n",
       "2         1          1             1  ...             1             1   \n",
       "3         0          1             2  ...             1             0   \n",
       "4         2          0             3  ...             2             3   \n",
       "\n",
       "   Stress.6  Anxiety.5  Anxiety.6  Depression.6  Gender  Total_Stress_Count  \\\n",
       "0         3          2          1             0       2                  26   \n",
       "1         1          1          0             1       2                  14   \n",
       "2         1          0          0             3       2                  20   \n",
       "3         0          0          1             0       1                   8   \n",
       "4         0          1          1             3       2                  12   \n",
       "\n",
       "   Total_Anxiety_Count  Total_Depression_Count  \n",
       "0                   24                       8  \n",
       "1                    8                      14  \n",
       "2                    4                      24  \n",
       "3                    8                       8  \n",
       "4                   10                      34  \n",
       "\n",
       "[5 rows x 25 columns]"
      ]
     },
     "execution_count": 12,
     "metadata": {},
     "output_type": "execute_result"
    }
   ],
   "source": [
    "Total_Stress_Count = Train_ld[\"Stress\"] + Train_ld[\"Stress.1\"] + Train_ld[\"Stress.2\"] + Train_ld[\"Stress.3\"] + Train_ld[\"Stress.4\"] + Train_ld[\"Stress.5\"] + Train_ld[\"Stress.6\"]\n",
    "Train_ld[\"Total_Stress_Count\"] = 2*Total_Stress_Count\n",
    "\n",
    "Total_Anxiety_Count = Train_ld[\"Anxiety\"] + Train_ld[\"Anxiety.1\"] + Train_ld[\"Anxiety.2\"] + Train_ld[\"Anxiety.3\"] + Train_ld[\"Anxiety.4\"] + Train_ld[\"Anxiety.5\"] + Train_ld[\"Anxiety.6\"]\n",
    "Train_ld[\"Total_Anxiety_Count\"] = 2*Total_Anxiety_Count\n",
    "\n",
    "Total_Depression_Count = Train_ld[\"Depression\"] + Train_ld[\"Depression.1\"] + Train_ld[\"Depression.2\"] + Train_ld[\"Depression.3\"] + Train_ld[\"Depression.4\"] + Train_ld[\"Depression.5\"] + Train_ld[\"Depression.6\"]\n",
    "Train_ld[\"Total_Depression_Count\"] = 2*Total_Depression_Count\n",
    "\n",
    "Train_ld.head()"
   ]
  },
  {
   "cell_type": "code",
   "execution_count": 13,
   "metadata": {},
   "outputs": [
    {
     "data": {
      "text/html": [
       "<div>\n",
       "<style scoped>\n",
       "    .dataframe tbody tr th:only-of-type {\n",
       "        vertical-align: middle;\n",
       "    }\n",
       "\n",
       "    .dataframe tbody tr th {\n",
       "        vertical-align: top;\n",
       "    }\n",
       "\n",
       "    .dataframe thead th {\n",
       "        text-align: right;\n",
       "    }\n",
       "</style>\n",
       "<table border=\"1\" class=\"dataframe\">\n",
       "  <thead>\n",
       "    <tr style=\"text-align: right;\">\n",
       "      <th></th>\n",
       "      <th>Stress</th>\n",
       "      <th>Anxiety</th>\n",
       "      <th>Depression</th>\n",
       "      <th>Anxiety.1</th>\n",
       "      <th>Depression.1</th>\n",
       "      <th>Stress.1</th>\n",
       "      <th>Anxiety.2</th>\n",
       "      <th>Stress.2</th>\n",
       "      <th>Anxiety.3</th>\n",
       "      <th>Depression.2</th>\n",
       "      <th>...</th>\n",
       "      <th>Depression.4</th>\n",
       "      <th>Depression.5</th>\n",
       "      <th>Stress.6</th>\n",
       "      <th>Anxiety.5</th>\n",
       "      <th>Anxiety.6</th>\n",
       "      <th>Depression.6</th>\n",
       "      <th>Gender</th>\n",
       "      <th>Total_Stress_Count</th>\n",
       "      <th>Total_Anxiety_Count</th>\n",
       "      <th>Total_Depression_Count</th>\n",
       "    </tr>\n",
       "  </thead>\n",
       "  <tbody>\n",
       "    <tr>\n",
       "      <th>0</th>\n",
       "      <td>2</td>\n",
       "      <td>3</td>\n",
       "      <td>1</td>\n",
       "      <td>2</td>\n",
       "      <td>1</td>\n",
       "      <td>0</td>\n",
       "      <td>1</td>\n",
       "      <td>2</td>\n",
       "      <td>1</td>\n",
       "      <td>1</td>\n",
       "      <td>...</td>\n",
       "      <td>0</td>\n",
       "      <td>0</td>\n",
       "      <td>3</td>\n",
       "      <td>2</td>\n",
       "      <td>1</td>\n",
       "      <td>0</td>\n",
       "      <td>2</td>\n",
       "      <td>Severe</td>\n",
       "      <td>Extremely Severe</td>\n",
       "      <td>Normal</td>\n",
       "    </tr>\n",
       "    <tr>\n",
       "      <th>1</th>\n",
       "      <td>0</td>\n",
       "      <td>1</td>\n",
       "      <td>1</td>\n",
       "      <td>0</td>\n",
       "      <td>1</td>\n",
       "      <td>2</td>\n",
       "      <td>0</td>\n",
       "      <td>1</td>\n",
       "      <td>1</td>\n",
       "      <td>1</td>\n",
       "      <td>...</td>\n",
       "      <td>1</td>\n",
       "      <td>1</td>\n",
       "      <td>1</td>\n",
       "      <td>1</td>\n",
       "      <td>0</td>\n",
       "      <td>1</td>\n",
       "      <td>2</td>\n",
       "      <td>Normal</td>\n",
       "      <td>Mild</td>\n",
       "      <td>Moderate</td>\n",
       "    </tr>\n",
       "    <tr>\n",
       "      <th>2</th>\n",
       "      <td>3</td>\n",
       "      <td>0</td>\n",
       "      <td>2</td>\n",
       "      <td>0</td>\n",
       "      <td>2</td>\n",
       "      <td>0</td>\n",
       "      <td>0</td>\n",
       "      <td>1</td>\n",
       "      <td>1</td>\n",
       "      <td>1</td>\n",
       "      <td>...</td>\n",
       "      <td>1</td>\n",
       "      <td>1</td>\n",
       "      <td>1</td>\n",
       "      <td>0</td>\n",
       "      <td>0</td>\n",
       "      <td>3</td>\n",
       "      <td>2</td>\n",
       "      <td>Moderate</td>\n",
       "      <td>Normal</td>\n",
       "      <td>Severe</td>\n",
       "    </tr>\n",
       "    <tr>\n",
       "      <th>3</th>\n",
       "      <td>1</td>\n",
       "      <td>1</td>\n",
       "      <td>0</td>\n",
       "      <td>0</td>\n",
       "      <td>0</td>\n",
       "      <td>0</td>\n",
       "      <td>1</td>\n",
       "      <td>0</td>\n",
       "      <td>1</td>\n",
       "      <td>2</td>\n",
       "      <td>...</td>\n",
       "      <td>1</td>\n",
       "      <td>0</td>\n",
       "      <td>0</td>\n",
       "      <td>0</td>\n",
       "      <td>1</td>\n",
       "      <td>0</td>\n",
       "      <td>1</td>\n",
       "      <td>Normal</td>\n",
       "      <td>Mild</td>\n",
       "      <td>Normal</td>\n",
       "    </tr>\n",
       "    <tr>\n",
       "      <th>4</th>\n",
       "      <td>1</td>\n",
       "      <td>1</td>\n",
       "      <td>3</td>\n",
       "      <td>0</td>\n",
       "      <td>2</td>\n",
       "      <td>1</td>\n",
       "      <td>2</td>\n",
       "      <td>2</td>\n",
       "      <td>0</td>\n",
       "      <td>3</td>\n",
       "      <td>...</td>\n",
       "      <td>2</td>\n",
       "      <td>3</td>\n",
       "      <td>0</td>\n",
       "      <td>1</td>\n",
       "      <td>1</td>\n",
       "      <td>3</td>\n",
       "      <td>2</td>\n",
       "      <td>Normal</td>\n",
       "      <td>Moderate</td>\n",
       "      <td>Extremely Severe</td>\n",
       "    </tr>\n",
       "  </tbody>\n",
       "</table>\n",
       "<p>5 rows × 25 columns</p>\n",
       "</div>"
      ],
      "text/plain": [
       "   Stress  Anxiety  Depression  Anxiety.1  Depression.1  Stress.1  Anxiety.2  \\\n",
       "0       2        3           1          2             1         0          1   \n",
       "1       0        1           1          0             1         2          0   \n",
       "2       3        0           2          0             2         0          0   \n",
       "3       1        1           0          0             0         0          1   \n",
       "4       1        1           3          0             2         1          2   \n",
       "\n",
       "   Stress.2  Anxiety.3  Depression.2  ...  Depression.4  Depression.5  \\\n",
       "0         2          1             1  ...             0             0   \n",
       "1         1          1             1  ...             1             1   \n",
       "2         1          1             1  ...             1             1   \n",
       "3         0          1             2  ...             1             0   \n",
       "4         2          0             3  ...             2             3   \n",
       "\n",
       "   Stress.6  Anxiety.5  Anxiety.6  Depression.6  Gender  Total_Stress_Count  \\\n",
       "0         3          2          1             0       2              Severe   \n",
       "1         1          1          0             1       2              Normal   \n",
       "2         1          0          0             3       2            Moderate   \n",
       "3         0          0          1             0       1              Normal   \n",
       "4         0          1          1             3       2              Normal   \n",
       "\n",
       "   Total_Anxiety_Count  Total_Depression_Count  \n",
       "0     Extremely Severe                  Normal  \n",
       "1                 Mild                Moderate  \n",
       "2               Normal                  Severe  \n",
       "3                 Mild                  Normal  \n",
       "4             Moderate        Extremely Severe  \n",
       "\n",
       "[5 rows x 25 columns]"
      ]
     },
     "execution_count": 13,
     "metadata": {},
     "output_type": "execute_result"
    }
   ],
   "source": [
    "Train_ld['Total_Stress_Count'] = pd.cut(Train_ld['Total_Stress_Count'], [0, 14, 18, 25, 33, 100], labels=['Normal', 'Mild', 'Moderate','Severe','Extremely Severe'])\n",
    "\n",
    "Train_ld['Total_Anxiety_Count'] = pd.cut(Train_ld['Total_Anxiety_Count'], [0, 7, 9, 14, 19, 100], labels=['Normal', 'Mild', 'Moderate','Severe','Extremely Severe'])\n",
    "\n",
    "Train_ld['Total_Depression_Count'] = pd.cut(Train_ld['Total_Depression_Count'], [0, 9, 13, 20, 27, 100], labels=['Normal', 'Mild', 'Moderate','Severe','Extremely Severe'])\n",
    "\n",
    "Train_ld.head()"
   ]
  },
  {
   "cell_type": "code",
   "execution_count": 14,
   "metadata": {},
   "outputs": [
    {
     "name": "stdout",
     "output_type": "stream",
     "text": [
      "Index(['Stress', 'Anxiety', 'Depression', 'Anxiety.1', 'Depression.1',\n",
      "       'Stress.1', 'Anxiety.2', 'Stress.2', 'Anxiety.3', 'Depression.2',\n",
      "       'Stress.3', 'Stress.4', 'Depression.3', 'Stress.5', 'Anxiety.4',\n",
      "       'Depression.4', 'Depression.5', 'Stress.6', 'Anxiety.5', 'Anxiety.6',\n",
      "       'Depression.6', 'Gender', 'Total_Stress_Count', 'Total_Anxiety_Count',\n",
      "       'Total_Depression_Count'],\n",
      "      dtype='object')\n"
     ]
    }
   ],
   "source": [
    "print(Train_ld.columns)"
   ]
  },
  {
   "cell_type": "code",
   "execution_count": 15,
   "metadata": {},
   "outputs": [
    {
     "data": {
      "text/html": [
       "<div>\n",
       "<style scoped>\n",
       "    .dataframe tbody tr th:only-of-type {\n",
       "        vertical-align: middle;\n",
       "    }\n",
       "\n",
       "    .dataframe tbody tr th {\n",
       "        vertical-align: top;\n",
       "    }\n",
       "\n",
       "    .dataframe thead th {\n",
       "        text-align: right;\n",
       "    }\n",
       "</style>\n",
       "<table border=\"1\" class=\"dataframe\">\n",
       "  <thead>\n",
       "    <tr style=\"text-align: right;\">\n",
       "      <th></th>\n",
       "      <th>Gender</th>\n",
       "      <th>Total_Stress_Count</th>\n",
       "      <th>Total_Anxiety_Count</th>\n",
       "      <th>Total_Depression_Count</th>\n",
       "    </tr>\n",
       "  </thead>\n",
       "  <tbody>\n",
       "    <tr>\n",
       "      <th>0</th>\n",
       "      <td>2</td>\n",
       "      <td>Severe</td>\n",
       "      <td>Extremely Severe</td>\n",
       "      <td>Normal</td>\n",
       "    </tr>\n",
       "    <tr>\n",
       "      <th>1</th>\n",
       "      <td>2</td>\n",
       "      <td>Normal</td>\n",
       "      <td>Mild</td>\n",
       "      <td>Moderate</td>\n",
       "    </tr>\n",
       "    <tr>\n",
       "      <th>2</th>\n",
       "      <td>2</td>\n",
       "      <td>Moderate</td>\n",
       "      <td>Normal</td>\n",
       "      <td>Severe</td>\n",
       "    </tr>\n",
       "    <tr>\n",
       "      <th>3</th>\n",
       "      <td>1</td>\n",
       "      <td>Normal</td>\n",
       "      <td>Mild</td>\n",
       "      <td>Normal</td>\n",
       "    </tr>\n",
       "    <tr>\n",
       "      <th>4</th>\n",
       "      <td>2</td>\n",
       "      <td>Normal</td>\n",
       "      <td>Moderate</td>\n",
       "      <td>Extremely Severe</td>\n",
       "    </tr>\n",
       "  </tbody>\n",
       "</table>\n",
       "</div>"
      ],
      "text/plain": [
       "   Gender Total_Stress_Count Total_Anxiety_Count Total_Depression_Count\n",
       "0       2             Severe    Extremely Severe                 Normal\n",
       "1       2             Normal                Mild               Moderate\n",
       "2       2           Moderate              Normal                 Severe\n",
       "3       1             Normal                Mild                 Normal\n",
       "4       2             Normal            Moderate       Extremely Severe"
      ]
     },
     "execution_count": 15,
     "metadata": {},
     "output_type": "execute_result"
    }
   ],
   "source": [
    "Train_ld = Train_ld.drop(['Stress', 'Anxiety', 'Depression', 'Anxiety.1', 'Depression.1',\n",
    "       'Stress.1', 'Anxiety.2', 'Stress.2', 'Anxiety.3', 'Depression.2',\n",
    "       'Stress.3', 'Stress.4', 'Depression.3', 'Stress.5', 'Anxiety.4',\n",
    "       'Depression.4', 'Depression.5', 'Stress.6', 'Anxiety.5', 'Anxiety.6',\n",
    "       'Depression.6'], axis=1)\n",
    "Train_ld.head()"
   ]
  },
  {
   "cell_type": "code",
   "execution_count": 16,
   "metadata": {},
   "outputs": [
    {
     "data": {
      "text/plain": [
       "Gender                       int64\n",
       "Total_Stress_Count        category\n",
       "Total_Anxiety_Count       category\n",
       "Total_Depression_Count    category\n",
       "dtype: object"
      ]
     },
     "execution_count": 16,
     "metadata": {},
     "output_type": "execute_result"
    }
   ],
   "source": [
    "Train_ld.dtypes"
   ]
  },
  {
   "cell_type": "code",
   "execution_count": 17,
   "metadata": {},
   "outputs": [
    {
     "data": {
      "text/plain": [
       "Gender                     int64\n",
       "Total_Stress_Count        object\n",
       "Total_Anxiety_Count       object\n",
       "Total_Depression_Count    object\n",
       "dtype: object"
      ]
     },
     "execution_count": 17,
     "metadata": {},
     "output_type": "execute_result"
    }
   ],
   "source": [
    "Train_ld['Total_Stress_Count'] = Train_ld['Total_Stress_Count'].astype(str)\n",
    "Train_ld['Total_Anxiety_Count'] = Train_ld['Total_Anxiety_Count'].astype(str)\n",
    "Train_ld['Total_Depression_Count'] = Train_ld['Total_Depression_Count'].astype(str)\n",
    "Train_ld.dtypes\n",
    "#ld['Total_Stress_Count'] = ld['Total_Stress_Count'].apply(np.int64)\n",
    "#ld['Anxiety.5'] = ld['Anxiety.5'].apply(np.int64)\n",
    "#ld.dtypes"
   ]
  },
  {
   "cell_type": "code",
   "execution_count": 18,
   "metadata": {},
   "outputs": [
    {
     "data": {
      "text/plain": [
       "array(['Severe', 'Normal', 'Moderate', 'Extremely Severe', 'Mild', 'nan'],\n",
       "      dtype=object)"
      ]
     },
     "execution_count": 18,
     "metadata": {},
     "output_type": "execute_result"
    }
   ],
   "source": [
    "Train_ld.Total_Stress_Count.unique()"
   ]
  },
  {
   "cell_type": "code",
   "execution_count": 19,
   "metadata": {},
   "outputs": [
    {
     "data": {
      "text/plain": [
       "0    Normal\n",
       "dtype: object"
      ]
     },
     "execution_count": 19,
     "metadata": {},
     "output_type": "execute_result"
    }
   ],
   "source": [
    "Train_ld['Total_Stress_Count'].mode()"
   ]
  },
  {
   "cell_type": "code",
   "execution_count": 20,
   "metadata": {},
   "outputs": [
    {
     "data": {
      "text/plain": [
       "array(['Severe', 'Normal', 'Moderate', 'Extremely Severe', 'Mild'],\n",
       "      dtype=object)"
      ]
     },
     "execution_count": 20,
     "metadata": {},
     "output_type": "execute_result"
    }
   ],
   "source": [
    "Train_ld['Total_Stress_Count'] = Train_ld['Total_Stress_Count'].replace('nan','Normal' )\n",
    "Train_ld.Total_Stress_Count.unique()"
   ]
  },
  {
   "cell_type": "code",
   "execution_count": 21,
   "metadata": {},
   "outputs": [
    {
     "data": {
      "text/plain": [
       "0    Moderate\n",
       "dtype: object"
      ]
     },
     "execution_count": 21,
     "metadata": {},
     "output_type": "execute_result"
    }
   ],
   "source": [
    "Train_ld['Total_Anxiety_Count'].mode()"
   ]
  },
  {
   "cell_type": "code",
   "execution_count": 22,
   "metadata": {},
   "outputs": [
    {
     "data": {
      "text/plain": [
       "array(['Extremely Severe', 'Mild', 'Normal', 'Moderate', 'Severe'],\n",
       "      dtype=object)"
      ]
     },
     "execution_count": 22,
     "metadata": {},
     "output_type": "execute_result"
    }
   ],
   "source": [
    "Train_ld['Total_Anxiety_Count'] = Train_ld['Total_Anxiety_Count'].replace('nan','Moderate' )\n",
    "Train_ld.Total_Anxiety_Count.unique()"
   ]
  },
  {
   "cell_type": "code",
   "execution_count": 23,
   "metadata": {},
   "outputs": [
    {
     "data": {
      "text/plain": [
       "0    Normal\n",
       "dtype: object"
      ]
     },
     "execution_count": 23,
     "metadata": {},
     "output_type": "execute_result"
    }
   ],
   "source": [
    "Train_ld['Total_Depression_Count'].mode()"
   ]
  },
  {
   "cell_type": "code",
   "execution_count": 24,
   "metadata": {},
   "outputs": [
    {
     "data": {
      "text/plain": [
       "array(['Normal', 'Moderate', 'Severe', 'Extremely Severe', 'Mild'],\n",
       "      dtype=object)"
      ]
     },
     "execution_count": 24,
     "metadata": {},
     "output_type": "execute_result"
    }
   ],
   "source": [
    "Train_ld['Total_Depression_Count'] = Train_ld['Total_Depression_Count'].replace('nan','Normal' )\n",
    "Train_ld.Total_Depression_Count.unique()"
   ]
  },
  {
   "cell_type": "code",
   "execution_count": 25,
   "metadata": {},
   "outputs": [],
   "source": [
    "Stress_Count = {'Normal': 1,'Mild': 2,'Moderate': 3,'Severe': 4,'Extremely Severe': 5} "
   ]
  },
  {
   "cell_type": "code",
   "execution_count": 26,
   "metadata": {},
   "outputs": [],
   "source": [
    "Train_ld.Total_Stress_Count = [Stress_Count[item] for item in Train_ld.Total_Stress_Count] "
   ]
  },
  {
   "cell_type": "code",
   "execution_count": 27,
   "metadata": {},
   "outputs": [
    {
     "name": "stdout",
     "output_type": "stream",
     "text": [
      "     Gender  Total_Stress_Count Total_Anxiety_Count Total_Depression_Count\n",
      "0         2                   4    Extremely Severe                 Normal\n",
      "1         2                   1                Mild               Moderate\n",
      "2         2                   3              Normal                 Severe\n",
      "3         1                   1                Mild                 Normal\n",
      "4         2                   1            Moderate       Extremely Severe\n",
      "..      ...                 ...                 ...                    ...\n",
      "111       2                   4    Extremely Severe       Extremely Severe\n",
      "112       1                   3            Moderate                 Normal\n",
      "113       1                   3    Extremely Severe                 Normal\n",
      "114       2                   1            Moderate               Moderate\n",
      "115       1                   1            Moderate               Moderate\n",
      "\n",
      "[116 rows x 4 columns]\n"
     ]
    }
   ],
   "source": [
    "print(Train_ld)"
   ]
  },
  {
   "cell_type": "code",
   "execution_count": 28,
   "metadata": {},
   "outputs": [],
   "source": [
    "Anxiety_Count = {'Normal': 1,'Mild': 2,'Moderate': 3,'Severe': 4,'Extremely Severe': 5} "
   ]
  },
  {
   "cell_type": "code",
   "execution_count": 29,
   "metadata": {},
   "outputs": [],
   "source": [
    "Train_ld.Total_Anxiety_Count = [Anxiety_Count[item] for item in Train_ld.Total_Anxiety_Count] "
   ]
  },
  {
   "cell_type": "code",
   "execution_count": 30,
   "metadata": {},
   "outputs": [
    {
     "name": "stdout",
     "output_type": "stream",
     "text": [
      "     Gender  Total_Stress_Count  Total_Anxiety_Count Total_Depression_Count\n",
      "0         2                   4                    5                 Normal\n",
      "1         2                   1                    2               Moderate\n",
      "2         2                   3                    1                 Severe\n",
      "3         1                   1                    2                 Normal\n",
      "4         2                   1                    3       Extremely Severe\n",
      "..      ...                 ...                  ...                    ...\n",
      "111       2                   4                    5       Extremely Severe\n",
      "112       1                   3                    3                 Normal\n",
      "113       1                   3                    5                 Normal\n",
      "114       2                   1                    3               Moderate\n",
      "115       1                   1                    3               Moderate\n",
      "\n",
      "[116 rows x 4 columns]\n"
     ]
    }
   ],
   "source": [
    "print(Train_ld)"
   ]
  },
  {
   "cell_type": "code",
   "execution_count": 31,
   "metadata": {},
   "outputs": [],
   "source": [
    "Depression_Count = {'Normal': 1,'Mild': 2,'Moderate': 3,'Severe': 4,'Extremely Severe': 5}"
   ]
  },
  {
   "cell_type": "code",
   "execution_count": 32,
   "metadata": {},
   "outputs": [],
   "source": [
    "Train_ld.Total_Depression_Count = [Depression_Count[item] for item in Train_ld.Total_Depression_Count] "
   ]
  },
  {
   "cell_type": "code",
   "execution_count": 33,
   "metadata": {},
   "outputs": [
    {
     "data": {
      "text/html": [
       "<div>\n",
       "<style scoped>\n",
       "    .dataframe tbody tr th:only-of-type {\n",
       "        vertical-align: middle;\n",
       "    }\n",
       "\n",
       "    .dataframe tbody tr th {\n",
       "        vertical-align: top;\n",
       "    }\n",
       "\n",
       "    .dataframe thead th {\n",
       "        text-align: right;\n",
       "    }\n",
       "</style>\n",
       "<table border=\"1\" class=\"dataframe\">\n",
       "  <thead>\n",
       "    <tr style=\"text-align: right;\">\n",
       "      <th></th>\n",
       "      <th>Gender</th>\n",
       "      <th>Total_Stress_Count</th>\n",
       "      <th>Total_Anxiety_Count</th>\n",
       "      <th>Total_Depression_Count</th>\n",
       "    </tr>\n",
       "  </thead>\n",
       "  <tbody>\n",
       "    <tr>\n",
       "      <th>0</th>\n",
       "      <td>2</td>\n",
       "      <td>4</td>\n",
       "      <td>5</td>\n",
       "      <td>1</td>\n",
       "    </tr>\n",
       "    <tr>\n",
       "      <th>1</th>\n",
       "      <td>2</td>\n",
       "      <td>1</td>\n",
       "      <td>2</td>\n",
       "      <td>3</td>\n",
       "    </tr>\n",
       "    <tr>\n",
       "      <th>2</th>\n",
       "      <td>2</td>\n",
       "      <td>3</td>\n",
       "      <td>1</td>\n",
       "      <td>4</td>\n",
       "    </tr>\n",
       "    <tr>\n",
       "      <th>3</th>\n",
       "      <td>1</td>\n",
       "      <td>1</td>\n",
       "      <td>2</td>\n",
       "      <td>1</td>\n",
       "    </tr>\n",
       "    <tr>\n",
       "      <th>4</th>\n",
       "      <td>2</td>\n",
       "      <td>1</td>\n",
       "      <td>3</td>\n",
       "      <td>5</td>\n",
       "    </tr>\n",
       "  </tbody>\n",
       "</table>\n",
       "</div>"
      ],
      "text/plain": [
       "   Gender  Total_Stress_Count  Total_Anxiety_Count  Total_Depression_Count\n",
       "0       2                   4                    5                       1\n",
       "1       2                   1                    2                       3\n",
       "2       2                   3                    1                       4\n",
       "3       1                   1                    2                       1\n",
       "4       2                   1                    3                       5"
      ]
     },
     "execution_count": 33,
     "metadata": {},
     "output_type": "execute_result"
    }
   ],
   "source": [
    "Train_ld.head()"
   ]
  },
  {
   "cell_type": "code",
   "execution_count": 34,
   "metadata": {},
   "outputs": [],
   "source": [
    "x_train = Train_ld.drop(['Gender'],axis=1)\n",
    "y_train = Train_ld.Gender"
   ]
  },
  {
   "cell_type": "code",
   "execution_count": 35,
   "metadata": {},
   "outputs": [],
   "source": [
    "from sklearn.tree import DecisionTreeClassifier # Import Decision Tree Classifier\n",
    "from sklearn.model_selection import train_test_split # Import train_test_split function\n",
    "from sklearn import metrics #Import scikit-learn metrics module for accuracy calculation"
   ]
  },
  {
   "cell_type": "code",
   "execution_count": 36,
   "metadata": {},
   "outputs": [
    {
     "data": {
      "text/plain": [
       "DecisionTreeClassifier(class_weight=None, criterion='gini', max_depth=None,\n",
       "                       max_features=None, max_leaf_nodes=None,\n",
       "                       min_impurity_decrease=0.0, min_impurity_split=None,\n",
       "                       min_samples_leaf=1, min_samples_split=2,\n",
       "                       min_weight_fraction_leaf=0.0, presort=False,\n",
       "                       random_state=None, splitter='best')"
      ]
     },
     "execution_count": 36,
     "metadata": {},
     "output_type": "execute_result"
    }
   ],
   "source": [
    "D_T = DecisionTreeClassifier()\n",
    "D_T.fit(x_train,y_train)"
   ]
  },
  {
   "cell_type": "code",
   "execution_count": 37,
   "metadata": {},
   "outputs": [
    {
     "data": {
      "text/html": [
       "<div>\n",
       "<style scoped>\n",
       "    .dataframe tbody tr th:only-of-type {\n",
       "        vertical-align: middle;\n",
       "    }\n",
       "\n",
       "    .dataframe tbody tr th {\n",
       "        vertical-align: top;\n",
       "    }\n",
       "\n",
       "    .dataframe thead th {\n",
       "        text-align: right;\n",
       "    }\n",
       "</style>\n",
       "<table border=\"1\" class=\"dataframe\">\n",
       "  <thead>\n",
       "    <tr style=\"text-align: right;\">\n",
       "      <th></th>\n",
       "      <th>Stress</th>\n",
       "      <th>Anxiety</th>\n",
       "      <th>Depression</th>\n",
       "      <th>Anxiety.1</th>\n",
       "      <th>Depression.1</th>\n",
       "      <th>Stress.1</th>\n",
       "      <th>Anxiety.2</th>\n",
       "      <th>Stress.2</th>\n",
       "      <th>Anxiety.3</th>\n",
       "      <th>Depression.2</th>\n",
       "      <th>...</th>\n",
       "      <th>Stress.5</th>\n",
       "      <th>Anxiety.4</th>\n",
       "      <th>Depression.4</th>\n",
       "      <th>Depression.5</th>\n",
       "      <th>Stress.6</th>\n",
       "      <th>Anxiety.5</th>\n",
       "      <th>Anxiety.6</th>\n",
       "      <th>Depression.6</th>\n",
       "      <th>Full Name</th>\n",
       "      <th>Gender</th>\n",
       "    </tr>\n",
       "  </thead>\n",
       "  <tbody>\n",
       "    <tr>\n",
       "      <th>0</th>\n",
       "      <td>2</td>\n",
       "      <td>3</td>\n",
       "      <td>1</td>\n",
       "      <td>2</td>\n",
       "      <td>1</td>\n",
       "      <td>0</td>\n",
       "      <td>1</td>\n",
       "      <td>2</td>\n",
       "      <td>1</td>\n",
       "      <td>1</td>\n",
       "      <td>...</td>\n",
       "      <td>1</td>\n",
       "      <td>2</td>\n",
       "      <td>0</td>\n",
       "      <td>0</td>\n",
       "      <td>3</td>\n",
       "      <td>2.0</td>\n",
       "      <td>1</td>\n",
       "      <td>0</td>\n",
       "      <td>Anu Priya</td>\n",
       "      <td>F</td>\n",
       "    </tr>\n",
       "    <tr>\n",
       "      <th>1</th>\n",
       "      <td>0</td>\n",
       "      <td>1</td>\n",
       "      <td>1</td>\n",
       "      <td>0</td>\n",
       "      <td>1</td>\n",
       "      <td>2</td>\n",
       "      <td>0</td>\n",
       "      <td>1</td>\n",
       "      <td>1</td>\n",
       "      <td>1</td>\n",
       "      <td>...</td>\n",
       "      <td>1</td>\n",
       "      <td>1</td>\n",
       "      <td>1</td>\n",
       "      <td>1</td>\n",
       "      <td>1</td>\n",
       "      <td>1.0</td>\n",
       "      <td>0</td>\n",
       "      <td>1</td>\n",
       "      <td>Anubha</td>\n",
       "      <td>F</td>\n",
       "    </tr>\n",
       "    <tr>\n",
       "      <th>2</th>\n",
       "      <td>3</td>\n",
       "      <td>0</td>\n",
       "      <td>2</td>\n",
       "      <td>0</td>\n",
       "      <td>2</td>\n",
       "      <td>0</td>\n",
       "      <td>0</td>\n",
       "      <td>1</td>\n",
       "      <td>1</td>\n",
       "      <td>1</td>\n",
       "      <td>...</td>\n",
       "      <td>1</td>\n",
       "      <td>1</td>\n",
       "      <td>1</td>\n",
       "      <td>1</td>\n",
       "      <td>1</td>\n",
       "      <td>0.0</td>\n",
       "      <td>0</td>\n",
       "      <td>3</td>\n",
       "      <td>Monalisha sinha</td>\n",
       "      <td>F</td>\n",
       "    </tr>\n",
       "    <tr>\n",
       "      <th>3</th>\n",
       "      <td>1</td>\n",
       "      <td>1</td>\n",
       "      <td>0</td>\n",
       "      <td>0</td>\n",
       "      <td>0</td>\n",
       "      <td>0</td>\n",
       "      <td>1</td>\n",
       "      <td>0</td>\n",
       "      <td>1</td>\n",
       "      <td>2</td>\n",
       "      <td>...</td>\n",
       "      <td>1</td>\n",
       "      <td>0</td>\n",
       "      <td>1</td>\n",
       "      <td>0</td>\n",
       "      <td>0</td>\n",
       "      <td>0.0</td>\n",
       "      <td>1</td>\n",
       "      <td>0</td>\n",
       "      <td>Mkm</td>\n",
       "      <td>M</td>\n",
       "    </tr>\n",
       "    <tr>\n",
       "      <th>4</th>\n",
       "      <td>1</td>\n",
       "      <td>1</td>\n",
       "      <td>3</td>\n",
       "      <td>0</td>\n",
       "      <td>2</td>\n",
       "      <td>1</td>\n",
       "      <td>2</td>\n",
       "      <td>2</td>\n",
       "      <td>0</td>\n",
       "      <td>3</td>\n",
       "      <td>...</td>\n",
       "      <td>2</td>\n",
       "      <td>0</td>\n",
       "      <td>2</td>\n",
       "      <td>3</td>\n",
       "      <td>0</td>\n",
       "      <td>1.0</td>\n",
       "      <td>1</td>\n",
       "      <td>3</td>\n",
       "      <td>Debasmita Maiti</td>\n",
       "      <td>F</td>\n",
       "    </tr>\n",
       "  </tbody>\n",
       "</table>\n",
       "<p>5 rows × 23 columns</p>\n",
       "</div>"
      ],
      "text/plain": [
       "   Stress  Anxiety  Depression  Anxiety.1  Depression.1  Stress.1  Anxiety.2  \\\n",
       "0       2        3           1          2             1         0          1   \n",
       "1       0        1           1          0             1         2          0   \n",
       "2       3        0           2          0             2         0          0   \n",
       "3       1        1           0          0             0         0          1   \n",
       "4       1        1           3          0             2         1          2   \n",
       "\n",
       "   Stress.2  Anxiety.3  Depression.2  ...  Stress.5  Anxiety.4  Depression.4  \\\n",
       "0         2          1             1  ...         1          2             0   \n",
       "1         1          1             1  ...         1          1             1   \n",
       "2         1          1             1  ...         1          1             1   \n",
       "3         0          1             2  ...         1          0             1   \n",
       "4         2          0             3  ...         2          0             2   \n",
       "\n",
       "   Depression.5  Stress.6  Anxiety.5  Anxiety.6  Depression.6  \\\n",
       "0             0         3        2.0          1             0   \n",
       "1             1         1        1.0          0             1   \n",
       "2             1         1        0.0          0             3   \n",
       "3             0         0        0.0          1             0   \n",
       "4             3         0        1.0          1             3   \n",
       "\n",
       "         Full Name  Gender  \n",
       "0        Anu Priya       F  \n",
       "1           Anubha       F  \n",
       "2  Monalisha sinha       F  \n",
       "3              Mkm       M  \n",
       "4  Debasmita Maiti       F  \n",
       "\n",
       "[5 rows x 23 columns]"
      ]
     },
     "execution_count": 37,
     "metadata": {},
     "output_type": "execute_result"
    }
   ],
   "source": [
    "## Test Data Set\n",
    "data_file=r'C:\\Users\\Anmol\\Desktop\\Project\\Test_Data_SAD.csv'\n",
    "Test_ld=pd.read_csv(data_file)\n",
    "Test_ld.head()"
   ]
  },
  {
   "cell_type": "code",
   "execution_count": 38,
   "metadata": {},
   "outputs": [
    {
     "data": {
      "text/plain": [
       "(116, 23)"
      ]
     },
     "execution_count": 38,
     "metadata": {},
     "output_type": "execute_result"
    }
   ],
   "source": [
    "Test_ld.shape"
   ]
  },
  {
   "cell_type": "code",
   "execution_count": 39,
   "metadata": {},
   "outputs": [
    {
     "data": {
      "text/plain": [
       "Stress            int64\n",
       "Anxiety           int64\n",
       "Depression        int64\n",
       "Anxiety.1         int64\n",
       "Depression.1      int64\n",
       "Stress.1          int64\n",
       "Anxiety.2         int64\n",
       "Stress.2          int64\n",
       "Anxiety.3         int64\n",
       "Depression.2      int64\n",
       "Stress.3          int64\n",
       "Stress.4          int64\n",
       "Depression.3    float64\n",
       "Stress.5          int64\n",
       "Anxiety.4         int64\n",
       "Depression.4      int64\n",
       "Depression.5      int64\n",
       "Stress.6          int64\n",
       "Anxiety.5       float64\n",
       "Anxiety.6         int64\n",
       "Depression.6      int64\n",
       "Full Name        object\n",
       "Gender           object\n",
       "dtype: object"
      ]
     },
     "execution_count": 39,
     "metadata": {},
     "output_type": "execute_result"
    }
   ],
   "source": [
    "Test_ld.dtypes"
   ]
  },
  {
   "cell_type": "code",
   "execution_count": 40,
   "metadata": {},
   "outputs": [
    {
     "name": "stdout",
     "output_type": "stream",
     "text": [
      "Index(['Stress', 'Anxiety', 'Depression', 'Anxiety.1', 'Depression.1',\n",
      "       'Stress.1', 'Anxiety.2', 'Stress.2', 'Anxiety.3', 'Depression.2',\n",
      "       'Stress.3', 'Stress.4', 'Depression.3', 'Stress.5', 'Anxiety.4',\n",
      "       'Depression.4', 'Depression.5', 'Stress.6', 'Anxiety.5', 'Anxiety.6',\n",
      "       'Depression.6', 'Full Name', 'Gender'],\n",
      "      dtype='object')\n"
     ]
    }
   ],
   "source": [
    "print(Test_ld.columns)"
   ]
  },
  {
   "cell_type": "code",
   "execution_count": 41,
   "metadata": {},
   "outputs": [
    {
     "data": {
      "text/plain": [
       "Stress          0\n",
       "Anxiety         0\n",
       "Depression      0\n",
       "Anxiety.1       0\n",
       "Depression.1    0\n",
       "Stress.1        0\n",
       "Anxiety.2       0\n",
       "Stress.2        0\n",
       "Anxiety.3       0\n",
       "Depression.2    0\n",
       "Stress.3        0\n",
       "Stress.4        0\n",
       "Depression.3    1\n",
       "Stress.5        0\n",
       "Anxiety.4       0\n",
       "Depression.4    0\n",
       "Depression.5    0\n",
       "Stress.6        0\n",
       "Anxiety.5       1\n",
       "Anxiety.6       0\n",
       "Depression.6    0\n",
       "Full Name       0\n",
       "Gender          0\n",
       "dtype: int64"
      ]
     },
     "execution_count": 41,
     "metadata": {},
     "output_type": "execute_result"
    }
   ],
   "source": [
    "Test_ld.isnull().sum()"
   ]
  },
  {
   "cell_type": "code",
   "execution_count": 42,
   "metadata": {},
   "outputs": [
    {
     "data": {
      "text/plain": [
       "Stress          0\n",
       "Anxiety         0\n",
       "Depression      0\n",
       "Anxiety.1       0\n",
       "Depression.1    0\n",
       "Stress.1        0\n",
       "Anxiety.2       0\n",
       "Stress.2        0\n",
       "Anxiety.3       0\n",
       "Depression.2    0\n",
       "Stress.3        0\n",
       "Stress.4        0\n",
       "Depression.3    0\n",
       "Stress.5        0\n",
       "Anxiety.4       0\n",
       "Depression.4    0\n",
       "Depression.5    0\n",
       "Stress.6        0\n",
       "Anxiety.5       0\n",
       "Anxiety.6       0\n",
       "Depression.6    0\n",
       "Full Name       0\n",
       "Gender          0\n",
       "dtype: int64"
      ]
     },
     "execution_count": 42,
     "metadata": {},
     "output_type": "execute_result"
    }
   ],
   "source": [
    "Test_ld['Depression.3'] = Test_ld['Depression.3'].fillna(Test_ld['Depression.3'].mode()[0])\n",
    "Test_ld['Anxiety.5'] = Test_ld['Anxiety.5'].fillna(Test_ld['Anxiety.5'].mode()[0])\n",
    "Test_ld.isnull().sum()"
   ]
  },
  {
   "cell_type": "code",
   "execution_count": 43,
   "metadata": {},
   "outputs": [
    {
     "data": {
      "text/plain": [
       "Stress           int64\n",
       "Anxiety          int64\n",
       "Depression       int64\n",
       "Anxiety.1        int64\n",
       "Depression.1     int64\n",
       "Stress.1         int64\n",
       "Anxiety.2        int64\n",
       "Stress.2         int64\n",
       "Anxiety.3        int64\n",
       "Depression.2     int64\n",
       "Stress.3         int64\n",
       "Stress.4         int64\n",
       "Depression.3     int64\n",
       "Stress.5         int64\n",
       "Anxiety.4        int64\n",
       "Depression.4     int64\n",
       "Depression.5     int64\n",
       "Stress.6         int64\n",
       "Anxiety.5        int64\n",
       "Anxiety.6        int64\n",
       "Depression.6     int64\n",
       "Full Name       object\n",
       "Gender          object\n",
       "dtype: object"
      ]
     },
     "execution_count": 43,
     "metadata": {},
     "output_type": "execute_result"
    }
   ],
   "source": [
    "Test_ld['Depression.3'] = Test_ld['Depression.3'].apply(np.int64)\n",
    "Test_ld['Anxiety.5'] = Test_ld['Anxiety.5'].apply(np.int64)\n",
    "Test_ld.dtypes"
   ]
  },
  {
   "cell_type": "code",
   "execution_count": 44,
   "metadata": {},
   "outputs": [
    {
     "data": {
      "text/html": [
       "<div>\n",
       "<style scoped>\n",
       "    .dataframe tbody tr th:only-of-type {\n",
       "        vertical-align: middle;\n",
       "    }\n",
       "\n",
       "    .dataframe tbody tr th {\n",
       "        vertical-align: top;\n",
       "    }\n",
       "\n",
       "    .dataframe thead th {\n",
       "        text-align: right;\n",
       "    }\n",
       "</style>\n",
       "<table border=\"1\" class=\"dataframe\">\n",
       "  <thead>\n",
       "    <tr style=\"text-align: right;\">\n",
       "      <th></th>\n",
       "      <th>Stress</th>\n",
       "      <th>Anxiety</th>\n",
       "      <th>Depression</th>\n",
       "      <th>Anxiety.1</th>\n",
       "      <th>Depression.1</th>\n",
       "      <th>Stress.1</th>\n",
       "      <th>Anxiety.2</th>\n",
       "      <th>Stress.2</th>\n",
       "      <th>Anxiety.3</th>\n",
       "      <th>Depression.2</th>\n",
       "      <th>...</th>\n",
       "      <th>Depression.3</th>\n",
       "      <th>Stress.5</th>\n",
       "      <th>Anxiety.4</th>\n",
       "      <th>Depression.4</th>\n",
       "      <th>Depression.5</th>\n",
       "      <th>Stress.6</th>\n",
       "      <th>Anxiety.5</th>\n",
       "      <th>Anxiety.6</th>\n",
       "      <th>Depression.6</th>\n",
       "      <th>Gender</th>\n",
       "    </tr>\n",
       "  </thead>\n",
       "  <tbody>\n",
       "    <tr>\n",
       "      <th>0</th>\n",
       "      <td>2</td>\n",
       "      <td>3</td>\n",
       "      <td>1</td>\n",
       "      <td>2</td>\n",
       "      <td>1</td>\n",
       "      <td>0</td>\n",
       "      <td>1</td>\n",
       "      <td>2</td>\n",
       "      <td>1</td>\n",
       "      <td>1</td>\n",
       "      <td>...</td>\n",
       "      <td>1</td>\n",
       "      <td>1</td>\n",
       "      <td>2</td>\n",
       "      <td>0</td>\n",
       "      <td>0</td>\n",
       "      <td>3</td>\n",
       "      <td>2</td>\n",
       "      <td>1</td>\n",
       "      <td>0</td>\n",
       "      <td>F</td>\n",
       "    </tr>\n",
       "    <tr>\n",
       "      <th>1</th>\n",
       "      <td>0</td>\n",
       "      <td>1</td>\n",
       "      <td>1</td>\n",
       "      <td>0</td>\n",
       "      <td>1</td>\n",
       "      <td>2</td>\n",
       "      <td>0</td>\n",
       "      <td>1</td>\n",
       "      <td>1</td>\n",
       "      <td>1</td>\n",
       "      <td>...</td>\n",
       "      <td>1</td>\n",
       "      <td>1</td>\n",
       "      <td>1</td>\n",
       "      <td>1</td>\n",
       "      <td>1</td>\n",
       "      <td>1</td>\n",
       "      <td>1</td>\n",
       "      <td>0</td>\n",
       "      <td>1</td>\n",
       "      <td>F</td>\n",
       "    </tr>\n",
       "    <tr>\n",
       "      <th>2</th>\n",
       "      <td>3</td>\n",
       "      <td>0</td>\n",
       "      <td>2</td>\n",
       "      <td>0</td>\n",
       "      <td>2</td>\n",
       "      <td>0</td>\n",
       "      <td>0</td>\n",
       "      <td>1</td>\n",
       "      <td>1</td>\n",
       "      <td>1</td>\n",
       "      <td>...</td>\n",
       "      <td>2</td>\n",
       "      <td>1</td>\n",
       "      <td>1</td>\n",
       "      <td>1</td>\n",
       "      <td>1</td>\n",
       "      <td>1</td>\n",
       "      <td>0</td>\n",
       "      <td>0</td>\n",
       "      <td>3</td>\n",
       "      <td>F</td>\n",
       "    </tr>\n",
       "    <tr>\n",
       "      <th>3</th>\n",
       "      <td>1</td>\n",
       "      <td>1</td>\n",
       "      <td>0</td>\n",
       "      <td>0</td>\n",
       "      <td>0</td>\n",
       "      <td>0</td>\n",
       "      <td>1</td>\n",
       "      <td>0</td>\n",
       "      <td>1</td>\n",
       "      <td>2</td>\n",
       "      <td>...</td>\n",
       "      <td>1</td>\n",
       "      <td>1</td>\n",
       "      <td>0</td>\n",
       "      <td>1</td>\n",
       "      <td>0</td>\n",
       "      <td>0</td>\n",
       "      <td>0</td>\n",
       "      <td>1</td>\n",
       "      <td>0</td>\n",
       "      <td>M</td>\n",
       "    </tr>\n",
       "    <tr>\n",
       "      <th>4</th>\n",
       "      <td>1</td>\n",
       "      <td>1</td>\n",
       "      <td>3</td>\n",
       "      <td>0</td>\n",
       "      <td>2</td>\n",
       "      <td>1</td>\n",
       "      <td>2</td>\n",
       "      <td>2</td>\n",
       "      <td>0</td>\n",
       "      <td>3</td>\n",
       "      <td>...</td>\n",
       "      <td>1</td>\n",
       "      <td>2</td>\n",
       "      <td>0</td>\n",
       "      <td>2</td>\n",
       "      <td>3</td>\n",
       "      <td>0</td>\n",
       "      <td>1</td>\n",
       "      <td>1</td>\n",
       "      <td>3</td>\n",
       "      <td>F</td>\n",
       "    </tr>\n",
       "  </tbody>\n",
       "</table>\n",
       "<p>5 rows × 22 columns</p>\n",
       "</div>"
      ],
      "text/plain": [
       "   Stress  Anxiety  Depression  Anxiety.1  Depression.1  Stress.1  Anxiety.2  \\\n",
       "0       2        3           1          2             1         0          1   \n",
       "1       0        1           1          0             1         2          0   \n",
       "2       3        0           2          0             2         0          0   \n",
       "3       1        1           0          0             0         0          1   \n",
       "4       1        1           3          0             2         1          2   \n",
       "\n",
       "   Stress.2  Anxiety.3  Depression.2  ...  Depression.3  Stress.5  Anxiety.4  \\\n",
       "0         2          1             1  ...             1         1          2   \n",
       "1         1          1             1  ...             1         1          1   \n",
       "2         1          1             1  ...             2         1          1   \n",
       "3         0          1             2  ...             1         1          0   \n",
       "4         2          0             3  ...             1         2          0   \n",
       "\n",
       "   Depression.4  Depression.5  Stress.6  Anxiety.5  Anxiety.6  Depression.6  \\\n",
       "0             0             0         3          2          1             0   \n",
       "1             1             1         1          1          0             1   \n",
       "2             1             1         1          0          0             3   \n",
       "3             1             0         0          0          1             0   \n",
       "4             2             3         0          1          1             3   \n",
       "\n",
       "   Gender  \n",
       "0       F  \n",
       "1       F  \n",
       "2       F  \n",
       "3       M  \n",
       "4       F  \n",
       "\n",
       "[5 rows x 22 columns]"
      ]
     },
     "execution_count": 44,
     "metadata": {},
     "output_type": "execute_result"
    }
   ],
   "source": [
    "Test_ld.drop('Full Name', axis=1, inplace=True)\n",
    "Test_ld.head()"
   ]
  },
  {
   "cell_type": "code",
   "execution_count": 45,
   "metadata": {},
   "outputs": [
    {
     "data": {
      "text/html": [
       "<div>\n",
       "<style scoped>\n",
       "    .dataframe tbody tr th:only-of-type {\n",
       "        vertical-align: middle;\n",
       "    }\n",
       "\n",
       "    .dataframe tbody tr th {\n",
       "        vertical-align: top;\n",
       "    }\n",
       "\n",
       "    .dataframe thead th {\n",
       "        text-align: right;\n",
       "    }\n",
       "</style>\n",
       "<table border=\"1\" class=\"dataframe\">\n",
       "  <thead>\n",
       "    <tr style=\"text-align: right;\">\n",
       "      <th></th>\n",
       "      <th>Stress</th>\n",
       "      <th>Anxiety</th>\n",
       "      <th>Depression</th>\n",
       "      <th>Anxiety.1</th>\n",
       "      <th>Depression.1</th>\n",
       "      <th>Stress.1</th>\n",
       "      <th>Anxiety.2</th>\n",
       "      <th>Stress.2</th>\n",
       "      <th>Anxiety.3</th>\n",
       "      <th>Depression.2</th>\n",
       "      <th>...</th>\n",
       "      <th>Depression.3</th>\n",
       "      <th>Stress.5</th>\n",
       "      <th>Anxiety.4</th>\n",
       "      <th>Depression.4</th>\n",
       "      <th>Depression.5</th>\n",
       "      <th>Stress.6</th>\n",
       "      <th>Anxiety.5</th>\n",
       "      <th>Anxiety.6</th>\n",
       "      <th>Depression.6</th>\n",
       "      <th>Gender</th>\n",
       "    </tr>\n",
       "  </thead>\n",
       "  <tbody>\n",
       "    <tr>\n",
       "      <th>0</th>\n",
       "      <td>2</td>\n",
       "      <td>3</td>\n",
       "      <td>1</td>\n",
       "      <td>2</td>\n",
       "      <td>1</td>\n",
       "      <td>0</td>\n",
       "      <td>1</td>\n",
       "      <td>2</td>\n",
       "      <td>1</td>\n",
       "      <td>1</td>\n",
       "      <td>...</td>\n",
       "      <td>1</td>\n",
       "      <td>1</td>\n",
       "      <td>2</td>\n",
       "      <td>0</td>\n",
       "      <td>0</td>\n",
       "      <td>3</td>\n",
       "      <td>2</td>\n",
       "      <td>1</td>\n",
       "      <td>0</td>\n",
       "      <td>2</td>\n",
       "    </tr>\n",
       "    <tr>\n",
       "      <th>1</th>\n",
       "      <td>0</td>\n",
       "      <td>1</td>\n",
       "      <td>1</td>\n",
       "      <td>0</td>\n",
       "      <td>1</td>\n",
       "      <td>2</td>\n",
       "      <td>0</td>\n",
       "      <td>1</td>\n",
       "      <td>1</td>\n",
       "      <td>1</td>\n",
       "      <td>...</td>\n",
       "      <td>1</td>\n",
       "      <td>1</td>\n",
       "      <td>1</td>\n",
       "      <td>1</td>\n",
       "      <td>1</td>\n",
       "      <td>1</td>\n",
       "      <td>1</td>\n",
       "      <td>0</td>\n",
       "      <td>1</td>\n",
       "      <td>2</td>\n",
       "    </tr>\n",
       "    <tr>\n",
       "      <th>2</th>\n",
       "      <td>3</td>\n",
       "      <td>0</td>\n",
       "      <td>2</td>\n",
       "      <td>0</td>\n",
       "      <td>2</td>\n",
       "      <td>0</td>\n",
       "      <td>0</td>\n",
       "      <td>1</td>\n",
       "      <td>1</td>\n",
       "      <td>1</td>\n",
       "      <td>...</td>\n",
       "      <td>2</td>\n",
       "      <td>1</td>\n",
       "      <td>1</td>\n",
       "      <td>1</td>\n",
       "      <td>1</td>\n",
       "      <td>1</td>\n",
       "      <td>0</td>\n",
       "      <td>0</td>\n",
       "      <td>3</td>\n",
       "      <td>2</td>\n",
       "    </tr>\n",
       "    <tr>\n",
       "      <th>3</th>\n",
       "      <td>1</td>\n",
       "      <td>1</td>\n",
       "      <td>0</td>\n",
       "      <td>0</td>\n",
       "      <td>0</td>\n",
       "      <td>0</td>\n",
       "      <td>1</td>\n",
       "      <td>0</td>\n",
       "      <td>1</td>\n",
       "      <td>2</td>\n",
       "      <td>...</td>\n",
       "      <td>1</td>\n",
       "      <td>1</td>\n",
       "      <td>0</td>\n",
       "      <td>1</td>\n",
       "      <td>0</td>\n",
       "      <td>0</td>\n",
       "      <td>0</td>\n",
       "      <td>1</td>\n",
       "      <td>0</td>\n",
       "      <td>1</td>\n",
       "    </tr>\n",
       "    <tr>\n",
       "      <th>4</th>\n",
       "      <td>1</td>\n",
       "      <td>1</td>\n",
       "      <td>3</td>\n",
       "      <td>0</td>\n",
       "      <td>2</td>\n",
       "      <td>1</td>\n",
       "      <td>2</td>\n",
       "      <td>2</td>\n",
       "      <td>0</td>\n",
       "      <td>3</td>\n",
       "      <td>...</td>\n",
       "      <td>1</td>\n",
       "      <td>2</td>\n",
       "      <td>0</td>\n",
       "      <td>2</td>\n",
       "      <td>3</td>\n",
       "      <td>0</td>\n",
       "      <td>1</td>\n",
       "      <td>1</td>\n",
       "      <td>3</td>\n",
       "      <td>2</td>\n",
       "    </tr>\n",
       "  </tbody>\n",
       "</table>\n",
       "<p>5 rows × 22 columns</p>\n",
       "</div>"
      ],
      "text/plain": [
       "   Stress  Anxiety  Depression  Anxiety.1  Depression.1  Stress.1  Anxiety.2  \\\n",
       "0       2        3           1          2             1         0          1   \n",
       "1       0        1           1          0             1         2          0   \n",
       "2       3        0           2          0             2         0          0   \n",
       "3       1        1           0          0             0         0          1   \n",
       "4       1        1           3          0             2         1          2   \n",
       "\n",
       "   Stress.2  Anxiety.3  Depression.2  ...  Depression.3  Stress.5  Anxiety.4  \\\n",
       "0         2          1             1  ...             1         1          2   \n",
       "1         1          1             1  ...             1         1          1   \n",
       "2         1          1             1  ...             2         1          1   \n",
       "3         0          1             2  ...             1         1          0   \n",
       "4         2          0             3  ...             1         2          0   \n",
       "\n",
       "   Depression.4  Depression.5  Stress.6  Anxiety.5  Anxiety.6  Depression.6  \\\n",
       "0             0             0         3          2          1             0   \n",
       "1             1             1         1          1          0             1   \n",
       "2             1             1         1          0          0             3   \n",
       "3             1             0         0          0          1             0   \n",
       "4             2             3         0          1          1             3   \n",
       "\n",
       "   Gender  \n",
       "0       2  \n",
       "1       2  \n",
       "2       2  \n",
       "3       1  \n",
       "4       2  \n",
       "\n",
       "[5 rows x 22 columns]"
      ]
     },
     "execution_count": 45,
     "metadata": {},
     "output_type": "execute_result"
    }
   ],
   "source": [
    "Gender_Count = {'M': 1,'F': 2}\n",
    "Test_ld.Gender = [Gender_Count[item] for item in Test_ld.Gender] \n",
    "#le = LabelEncoder()\n",
    "#ld['Gender'] = le.fit_transform(ld['Gender'])\n",
    "Test_ld.head()"
   ]
  },
  {
   "cell_type": "code",
   "execution_count": 46,
   "metadata": {},
   "outputs": [
    {
     "name": "stdout",
     "output_type": "stream",
     "text": [
      "Index(['Stress', 'Anxiety', 'Depression', 'Anxiety.1', 'Depression.1',\n",
      "       'Stress.1', 'Anxiety.2', 'Stress.2', 'Anxiety.3', 'Depression.2',\n",
      "       'Stress.3', 'Stress.4', 'Depression.3', 'Stress.5', 'Anxiety.4',\n",
      "       'Depression.4', 'Depression.5', 'Stress.6', 'Anxiety.5', 'Anxiety.6',\n",
      "       'Depression.6', 'Gender'],\n",
      "      dtype='object')\n"
     ]
    }
   ],
   "source": [
    "print(Test_ld.columns)"
   ]
  },
  {
   "cell_type": "code",
   "execution_count": 47,
   "metadata": {},
   "outputs": [
    {
     "data": {
      "text/html": [
       "<div>\n",
       "<style scoped>\n",
       "    .dataframe tbody tr th:only-of-type {\n",
       "        vertical-align: middle;\n",
       "    }\n",
       "\n",
       "    .dataframe tbody tr th {\n",
       "        vertical-align: top;\n",
       "    }\n",
       "\n",
       "    .dataframe thead th {\n",
       "        text-align: right;\n",
       "    }\n",
       "</style>\n",
       "<table border=\"1\" class=\"dataframe\">\n",
       "  <thead>\n",
       "    <tr style=\"text-align: right;\">\n",
       "      <th></th>\n",
       "      <th>Stress</th>\n",
       "      <th>Anxiety</th>\n",
       "      <th>Depression</th>\n",
       "      <th>Anxiety.1</th>\n",
       "      <th>Depression.1</th>\n",
       "      <th>Stress.1</th>\n",
       "      <th>Anxiety.2</th>\n",
       "      <th>Stress.2</th>\n",
       "      <th>Anxiety.3</th>\n",
       "      <th>Depression.2</th>\n",
       "      <th>...</th>\n",
       "      <th>Depression.4</th>\n",
       "      <th>Depression.5</th>\n",
       "      <th>Stress.6</th>\n",
       "      <th>Anxiety.5</th>\n",
       "      <th>Anxiety.6</th>\n",
       "      <th>Depression.6</th>\n",
       "      <th>Gender</th>\n",
       "      <th>Total_Stress_Count</th>\n",
       "      <th>Total_Anxiety_Count</th>\n",
       "      <th>Total_Depression_Count</th>\n",
       "    </tr>\n",
       "  </thead>\n",
       "  <tbody>\n",
       "    <tr>\n",
       "      <th>0</th>\n",
       "      <td>2</td>\n",
       "      <td>3</td>\n",
       "      <td>1</td>\n",
       "      <td>2</td>\n",
       "      <td>1</td>\n",
       "      <td>0</td>\n",
       "      <td>1</td>\n",
       "      <td>2</td>\n",
       "      <td>1</td>\n",
       "      <td>1</td>\n",
       "      <td>...</td>\n",
       "      <td>0</td>\n",
       "      <td>0</td>\n",
       "      <td>3</td>\n",
       "      <td>2</td>\n",
       "      <td>1</td>\n",
       "      <td>0</td>\n",
       "      <td>2</td>\n",
       "      <td>26</td>\n",
       "      <td>24</td>\n",
       "      <td>8</td>\n",
       "    </tr>\n",
       "    <tr>\n",
       "      <th>1</th>\n",
       "      <td>0</td>\n",
       "      <td>1</td>\n",
       "      <td>1</td>\n",
       "      <td>0</td>\n",
       "      <td>1</td>\n",
       "      <td>2</td>\n",
       "      <td>0</td>\n",
       "      <td>1</td>\n",
       "      <td>1</td>\n",
       "      <td>1</td>\n",
       "      <td>...</td>\n",
       "      <td>1</td>\n",
       "      <td>1</td>\n",
       "      <td>1</td>\n",
       "      <td>1</td>\n",
       "      <td>0</td>\n",
       "      <td>1</td>\n",
       "      <td>2</td>\n",
       "      <td>14</td>\n",
       "      <td>8</td>\n",
       "      <td>14</td>\n",
       "    </tr>\n",
       "    <tr>\n",
       "      <th>2</th>\n",
       "      <td>3</td>\n",
       "      <td>0</td>\n",
       "      <td>2</td>\n",
       "      <td>0</td>\n",
       "      <td>2</td>\n",
       "      <td>0</td>\n",
       "      <td>0</td>\n",
       "      <td>1</td>\n",
       "      <td>1</td>\n",
       "      <td>1</td>\n",
       "      <td>...</td>\n",
       "      <td>1</td>\n",
       "      <td>1</td>\n",
       "      <td>1</td>\n",
       "      <td>0</td>\n",
       "      <td>0</td>\n",
       "      <td>3</td>\n",
       "      <td>2</td>\n",
       "      <td>20</td>\n",
       "      <td>4</td>\n",
       "      <td>24</td>\n",
       "    </tr>\n",
       "    <tr>\n",
       "      <th>3</th>\n",
       "      <td>1</td>\n",
       "      <td>1</td>\n",
       "      <td>0</td>\n",
       "      <td>0</td>\n",
       "      <td>0</td>\n",
       "      <td>0</td>\n",
       "      <td>1</td>\n",
       "      <td>0</td>\n",
       "      <td>1</td>\n",
       "      <td>2</td>\n",
       "      <td>...</td>\n",
       "      <td>1</td>\n",
       "      <td>0</td>\n",
       "      <td>0</td>\n",
       "      <td>0</td>\n",
       "      <td>1</td>\n",
       "      <td>0</td>\n",
       "      <td>1</td>\n",
       "      <td>8</td>\n",
       "      <td>8</td>\n",
       "      <td>8</td>\n",
       "    </tr>\n",
       "    <tr>\n",
       "      <th>4</th>\n",
       "      <td>1</td>\n",
       "      <td>1</td>\n",
       "      <td>3</td>\n",
       "      <td>0</td>\n",
       "      <td>2</td>\n",
       "      <td>1</td>\n",
       "      <td>2</td>\n",
       "      <td>2</td>\n",
       "      <td>0</td>\n",
       "      <td>3</td>\n",
       "      <td>...</td>\n",
       "      <td>2</td>\n",
       "      <td>3</td>\n",
       "      <td>0</td>\n",
       "      <td>1</td>\n",
       "      <td>1</td>\n",
       "      <td>3</td>\n",
       "      <td>2</td>\n",
       "      <td>12</td>\n",
       "      <td>10</td>\n",
       "      <td>34</td>\n",
       "    </tr>\n",
       "  </tbody>\n",
       "</table>\n",
       "<p>5 rows × 25 columns</p>\n",
       "</div>"
      ],
      "text/plain": [
       "   Stress  Anxiety  Depression  Anxiety.1  Depression.1  Stress.1  Anxiety.2  \\\n",
       "0       2        3           1          2             1         0          1   \n",
       "1       0        1           1          0             1         2          0   \n",
       "2       3        0           2          0             2         0          0   \n",
       "3       1        1           0          0             0         0          1   \n",
       "4       1        1           3          0             2         1          2   \n",
       "\n",
       "   Stress.2  Anxiety.3  Depression.2  ...  Depression.4  Depression.5  \\\n",
       "0         2          1             1  ...             0             0   \n",
       "1         1          1             1  ...             1             1   \n",
       "2         1          1             1  ...             1             1   \n",
       "3         0          1             2  ...             1             0   \n",
       "4         2          0             3  ...             2             3   \n",
       "\n",
       "   Stress.6  Anxiety.5  Anxiety.6  Depression.6  Gender  Total_Stress_Count  \\\n",
       "0         3          2          1             0       2                  26   \n",
       "1         1          1          0             1       2                  14   \n",
       "2         1          0          0             3       2                  20   \n",
       "3         0          0          1             0       1                   8   \n",
       "4         0          1          1             3       2                  12   \n",
       "\n",
       "   Total_Anxiety_Count  Total_Depression_Count  \n",
       "0                   24                       8  \n",
       "1                    8                      14  \n",
       "2                    4                      24  \n",
       "3                    8                       8  \n",
       "4                   10                      34  \n",
       "\n",
       "[5 rows x 25 columns]"
      ]
     },
     "execution_count": 47,
     "metadata": {},
     "output_type": "execute_result"
    }
   ],
   "source": [
    "Total_Stress_Count = Test_ld[\"Stress\"] + Test_ld[\"Stress.1\"] + Test_ld[\"Stress.2\"] + Test_ld[\"Stress.3\"] + Test_ld[\"Stress.4\"] + Test_ld[\"Stress.5\"] + Test_ld[\"Stress.6\"]\n",
    "Test_ld[\"Total_Stress_Count\"] = 2*Total_Stress_Count\n",
    "\n",
    "Total_Anxiety_Count = Test_ld[\"Anxiety\"] + Test_ld[\"Anxiety.1\"] + Test_ld[\"Anxiety.2\"] + Test_ld[\"Anxiety.3\"] + Test_ld[\"Anxiety.4\"] + Test_ld[\"Anxiety.5\"] + Test_ld[\"Anxiety.6\"]\n",
    "Test_ld[\"Total_Anxiety_Count\"] = 2*Total_Anxiety_Count\n",
    "\n",
    "Total_Depression_Count = Test_ld[\"Depression\"] + Test_ld[\"Depression.1\"] + Test_ld[\"Depression.2\"] + Test_ld[\"Depression.3\"] + Test_ld[\"Depression.4\"] + Test_ld[\"Depression.5\"] + Test_ld[\"Depression.6\"]\n",
    "Test_ld[\"Total_Depression_Count\"] = 2*Total_Depression_Count\n",
    "\n",
    "Test_ld.head()"
   ]
  },
  {
   "cell_type": "code",
   "execution_count": 48,
   "metadata": {},
   "outputs": [
    {
     "data": {
      "text/html": [
       "<div>\n",
       "<style scoped>\n",
       "    .dataframe tbody tr th:only-of-type {\n",
       "        vertical-align: middle;\n",
       "    }\n",
       "\n",
       "    .dataframe tbody tr th {\n",
       "        vertical-align: top;\n",
       "    }\n",
       "\n",
       "    .dataframe thead th {\n",
       "        text-align: right;\n",
       "    }\n",
       "</style>\n",
       "<table border=\"1\" class=\"dataframe\">\n",
       "  <thead>\n",
       "    <tr style=\"text-align: right;\">\n",
       "      <th></th>\n",
       "      <th>Stress</th>\n",
       "      <th>Anxiety</th>\n",
       "      <th>Depression</th>\n",
       "      <th>Anxiety.1</th>\n",
       "      <th>Depression.1</th>\n",
       "      <th>Stress.1</th>\n",
       "      <th>Anxiety.2</th>\n",
       "      <th>Stress.2</th>\n",
       "      <th>Anxiety.3</th>\n",
       "      <th>Depression.2</th>\n",
       "      <th>...</th>\n",
       "      <th>Depression.4</th>\n",
       "      <th>Depression.5</th>\n",
       "      <th>Stress.6</th>\n",
       "      <th>Anxiety.5</th>\n",
       "      <th>Anxiety.6</th>\n",
       "      <th>Depression.6</th>\n",
       "      <th>Gender</th>\n",
       "      <th>Total_Stress_Count</th>\n",
       "      <th>Total_Anxiety_Count</th>\n",
       "      <th>Total_Depression_Count</th>\n",
       "    </tr>\n",
       "  </thead>\n",
       "  <tbody>\n",
       "    <tr>\n",
       "      <th>0</th>\n",
       "      <td>2</td>\n",
       "      <td>3</td>\n",
       "      <td>1</td>\n",
       "      <td>2</td>\n",
       "      <td>1</td>\n",
       "      <td>0</td>\n",
       "      <td>1</td>\n",
       "      <td>2</td>\n",
       "      <td>1</td>\n",
       "      <td>1</td>\n",
       "      <td>...</td>\n",
       "      <td>0</td>\n",
       "      <td>0</td>\n",
       "      <td>3</td>\n",
       "      <td>2</td>\n",
       "      <td>1</td>\n",
       "      <td>0</td>\n",
       "      <td>2</td>\n",
       "      <td>Severe</td>\n",
       "      <td>Extremely Severe</td>\n",
       "      <td>Normal</td>\n",
       "    </tr>\n",
       "    <tr>\n",
       "      <th>1</th>\n",
       "      <td>0</td>\n",
       "      <td>1</td>\n",
       "      <td>1</td>\n",
       "      <td>0</td>\n",
       "      <td>1</td>\n",
       "      <td>2</td>\n",
       "      <td>0</td>\n",
       "      <td>1</td>\n",
       "      <td>1</td>\n",
       "      <td>1</td>\n",
       "      <td>...</td>\n",
       "      <td>1</td>\n",
       "      <td>1</td>\n",
       "      <td>1</td>\n",
       "      <td>1</td>\n",
       "      <td>0</td>\n",
       "      <td>1</td>\n",
       "      <td>2</td>\n",
       "      <td>Normal</td>\n",
       "      <td>Mild</td>\n",
       "      <td>Moderate</td>\n",
       "    </tr>\n",
       "    <tr>\n",
       "      <th>2</th>\n",
       "      <td>3</td>\n",
       "      <td>0</td>\n",
       "      <td>2</td>\n",
       "      <td>0</td>\n",
       "      <td>2</td>\n",
       "      <td>0</td>\n",
       "      <td>0</td>\n",
       "      <td>1</td>\n",
       "      <td>1</td>\n",
       "      <td>1</td>\n",
       "      <td>...</td>\n",
       "      <td>1</td>\n",
       "      <td>1</td>\n",
       "      <td>1</td>\n",
       "      <td>0</td>\n",
       "      <td>0</td>\n",
       "      <td>3</td>\n",
       "      <td>2</td>\n",
       "      <td>Moderate</td>\n",
       "      <td>Normal</td>\n",
       "      <td>Severe</td>\n",
       "    </tr>\n",
       "    <tr>\n",
       "      <th>3</th>\n",
       "      <td>1</td>\n",
       "      <td>1</td>\n",
       "      <td>0</td>\n",
       "      <td>0</td>\n",
       "      <td>0</td>\n",
       "      <td>0</td>\n",
       "      <td>1</td>\n",
       "      <td>0</td>\n",
       "      <td>1</td>\n",
       "      <td>2</td>\n",
       "      <td>...</td>\n",
       "      <td>1</td>\n",
       "      <td>0</td>\n",
       "      <td>0</td>\n",
       "      <td>0</td>\n",
       "      <td>1</td>\n",
       "      <td>0</td>\n",
       "      <td>1</td>\n",
       "      <td>Normal</td>\n",
       "      <td>Mild</td>\n",
       "      <td>Normal</td>\n",
       "    </tr>\n",
       "    <tr>\n",
       "      <th>4</th>\n",
       "      <td>1</td>\n",
       "      <td>1</td>\n",
       "      <td>3</td>\n",
       "      <td>0</td>\n",
       "      <td>2</td>\n",
       "      <td>1</td>\n",
       "      <td>2</td>\n",
       "      <td>2</td>\n",
       "      <td>0</td>\n",
       "      <td>3</td>\n",
       "      <td>...</td>\n",
       "      <td>2</td>\n",
       "      <td>3</td>\n",
       "      <td>0</td>\n",
       "      <td>1</td>\n",
       "      <td>1</td>\n",
       "      <td>3</td>\n",
       "      <td>2</td>\n",
       "      <td>Normal</td>\n",
       "      <td>Moderate</td>\n",
       "      <td>Extremely Severe</td>\n",
       "    </tr>\n",
       "  </tbody>\n",
       "</table>\n",
       "<p>5 rows × 25 columns</p>\n",
       "</div>"
      ],
      "text/plain": [
       "   Stress  Anxiety  Depression  Anxiety.1  Depression.1  Stress.1  Anxiety.2  \\\n",
       "0       2        3           1          2             1         0          1   \n",
       "1       0        1           1          0             1         2          0   \n",
       "2       3        0           2          0             2         0          0   \n",
       "3       1        1           0          0             0         0          1   \n",
       "4       1        1           3          0             2         1          2   \n",
       "\n",
       "   Stress.2  Anxiety.3  Depression.2  ...  Depression.4  Depression.5  \\\n",
       "0         2          1             1  ...             0             0   \n",
       "1         1          1             1  ...             1             1   \n",
       "2         1          1             1  ...             1             1   \n",
       "3         0          1             2  ...             1             0   \n",
       "4         2          0             3  ...             2             3   \n",
       "\n",
       "   Stress.6  Anxiety.5  Anxiety.6  Depression.6  Gender  Total_Stress_Count  \\\n",
       "0         3          2          1             0       2              Severe   \n",
       "1         1          1          0             1       2              Normal   \n",
       "2         1          0          0             3       2            Moderate   \n",
       "3         0          0          1             0       1              Normal   \n",
       "4         0          1          1             3       2              Normal   \n",
       "\n",
       "   Total_Anxiety_Count  Total_Depression_Count  \n",
       "0     Extremely Severe                  Normal  \n",
       "1                 Mild                Moderate  \n",
       "2               Normal                  Severe  \n",
       "3                 Mild                  Normal  \n",
       "4             Moderate        Extremely Severe  \n",
       "\n",
       "[5 rows x 25 columns]"
      ]
     },
     "execution_count": 48,
     "metadata": {},
     "output_type": "execute_result"
    }
   ],
   "source": [
    "Test_ld['Total_Stress_Count'] = pd.cut(Test_ld['Total_Stress_Count'], [0, 14, 18, 25, 33, 100], labels=['Normal', 'Mild', 'Moderate','Severe','Extremely Severe'])\n",
    "\n",
    "Test_ld['Total_Anxiety_Count'] = pd.cut(Test_ld['Total_Anxiety_Count'], [0, 7, 9, 14, 19, 100], labels=['Normal', 'Mild', 'Moderate','Severe','Extremely Severe'])\n",
    "\n",
    "Test_ld['Total_Depression_Count'] = pd.cut(Test_ld['Total_Depression_Count'], [0, 9, 13, 20, 27, 100], labels=['Normal', 'Mild', 'Moderate','Severe','Extremely Severe'])\n",
    "\n",
    "Test_ld.head()"
   ]
  },
  {
   "cell_type": "code",
   "execution_count": 49,
   "metadata": {},
   "outputs": [
    {
     "name": "stdout",
     "output_type": "stream",
     "text": [
      "Index(['Stress', 'Anxiety', 'Depression', 'Anxiety.1', 'Depression.1',\n",
      "       'Stress.1', 'Anxiety.2', 'Stress.2', 'Anxiety.3', 'Depression.2',\n",
      "       'Stress.3', 'Stress.4', 'Depression.3', 'Stress.5', 'Anxiety.4',\n",
      "       'Depression.4', 'Depression.5', 'Stress.6', 'Anxiety.5', 'Anxiety.6',\n",
      "       'Depression.6', 'Gender', 'Total_Stress_Count', 'Total_Anxiety_Count',\n",
      "       'Total_Depression_Count'],\n",
      "      dtype='object')\n"
     ]
    }
   ],
   "source": [
    "print(Test_ld.columns)"
   ]
  },
  {
   "cell_type": "code",
   "execution_count": 50,
   "metadata": {},
   "outputs": [
    {
     "data": {
      "text/html": [
       "<div>\n",
       "<style scoped>\n",
       "    .dataframe tbody tr th:only-of-type {\n",
       "        vertical-align: middle;\n",
       "    }\n",
       "\n",
       "    .dataframe tbody tr th {\n",
       "        vertical-align: top;\n",
       "    }\n",
       "\n",
       "    .dataframe thead th {\n",
       "        text-align: right;\n",
       "    }\n",
       "</style>\n",
       "<table border=\"1\" class=\"dataframe\">\n",
       "  <thead>\n",
       "    <tr style=\"text-align: right;\">\n",
       "      <th></th>\n",
       "      <th>Gender</th>\n",
       "      <th>Total_Stress_Count</th>\n",
       "      <th>Total_Anxiety_Count</th>\n",
       "      <th>Total_Depression_Count</th>\n",
       "    </tr>\n",
       "  </thead>\n",
       "  <tbody>\n",
       "    <tr>\n",
       "      <th>0</th>\n",
       "      <td>2</td>\n",
       "      <td>Severe</td>\n",
       "      <td>Extremely Severe</td>\n",
       "      <td>Normal</td>\n",
       "    </tr>\n",
       "    <tr>\n",
       "      <th>1</th>\n",
       "      <td>2</td>\n",
       "      <td>Normal</td>\n",
       "      <td>Mild</td>\n",
       "      <td>Moderate</td>\n",
       "    </tr>\n",
       "    <tr>\n",
       "      <th>2</th>\n",
       "      <td>2</td>\n",
       "      <td>Moderate</td>\n",
       "      <td>Normal</td>\n",
       "      <td>Severe</td>\n",
       "    </tr>\n",
       "    <tr>\n",
       "      <th>3</th>\n",
       "      <td>1</td>\n",
       "      <td>Normal</td>\n",
       "      <td>Mild</td>\n",
       "      <td>Normal</td>\n",
       "    </tr>\n",
       "    <tr>\n",
       "      <th>4</th>\n",
       "      <td>2</td>\n",
       "      <td>Normal</td>\n",
       "      <td>Moderate</td>\n",
       "      <td>Extremely Severe</td>\n",
       "    </tr>\n",
       "  </tbody>\n",
       "</table>\n",
       "</div>"
      ],
      "text/plain": [
       "   Gender Total_Stress_Count Total_Anxiety_Count Total_Depression_Count\n",
       "0       2             Severe    Extremely Severe                 Normal\n",
       "1       2             Normal                Mild               Moderate\n",
       "2       2           Moderate              Normal                 Severe\n",
       "3       1             Normal                Mild                 Normal\n",
       "4       2             Normal            Moderate       Extremely Severe"
      ]
     },
     "execution_count": 50,
     "metadata": {},
     "output_type": "execute_result"
    }
   ],
   "source": [
    "Test_ld = Test_ld.drop(['Stress', 'Anxiety', 'Depression', 'Anxiety.1', 'Depression.1',\n",
    "       'Stress.1', 'Anxiety.2', 'Stress.2', 'Anxiety.3', 'Depression.2',\n",
    "       'Stress.3', 'Stress.4', 'Depression.3', 'Stress.5', 'Anxiety.4',\n",
    "       'Depression.4', 'Depression.5', 'Stress.6', 'Anxiety.5', 'Anxiety.6',\n",
    "       'Depression.6'], axis=1)\n",
    "Test_ld.head()"
   ]
  },
  {
   "cell_type": "code",
   "execution_count": 51,
   "metadata": {},
   "outputs": [
    {
     "data": {
      "text/plain": [
       "Gender                       int64\n",
       "Total_Stress_Count        category\n",
       "Total_Anxiety_Count       category\n",
       "Total_Depression_Count    category\n",
       "dtype: object"
      ]
     },
     "execution_count": 51,
     "metadata": {},
     "output_type": "execute_result"
    }
   ],
   "source": [
    "Test_ld.dtypes"
   ]
  },
  {
   "cell_type": "code",
   "execution_count": 52,
   "metadata": {},
   "outputs": [
    {
     "data": {
      "text/plain": [
       "Gender                     int64\n",
       "Total_Stress_Count        object\n",
       "Total_Anxiety_Count       object\n",
       "Total_Depression_Count    object\n",
       "dtype: object"
      ]
     },
     "execution_count": 52,
     "metadata": {},
     "output_type": "execute_result"
    }
   ],
   "source": [
    "Test_ld['Total_Stress_Count'] = Test_ld['Total_Stress_Count'].astype(str)\n",
    "Test_ld['Total_Anxiety_Count'] = Test_ld['Total_Anxiety_Count'].astype(str)\n",
    "Test_ld['Total_Depression_Count'] = Test_ld['Total_Depression_Count'].astype(str)\n",
    "Test_ld.dtypes\n",
    "#ld['Total_Stress_Count'] = ld['Total_Stress_Count'].apply(np.int64)\n",
    "#ld['Anxiety.5'] = ld['Anxiety.5'].apply(np.int64)\n",
    "#ld.dtypes"
   ]
  },
  {
   "cell_type": "code",
   "execution_count": 53,
   "metadata": {},
   "outputs": [
    {
     "data": {
      "text/plain": [
       "array(['Severe', 'Normal', 'Moderate', 'Extremely Severe', 'Mild', 'nan'],\n",
       "      dtype=object)"
      ]
     },
     "execution_count": 53,
     "metadata": {},
     "output_type": "execute_result"
    }
   ],
   "source": [
    "Test_ld.Total_Stress_Count.unique()"
   ]
  },
  {
   "cell_type": "code",
   "execution_count": 54,
   "metadata": {},
   "outputs": [
    {
     "data": {
      "text/plain": [
       "0    Normal\n",
       "dtype: object"
      ]
     },
     "execution_count": 54,
     "metadata": {},
     "output_type": "execute_result"
    }
   ],
   "source": [
    "Test_ld['Total_Stress_Count'].mode()"
   ]
  },
  {
   "cell_type": "code",
   "execution_count": 55,
   "metadata": {},
   "outputs": [
    {
     "data": {
      "text/plain": [
       "array(['Severe', 'Normal', 'Moderate', 'Extremely Severe', 'Mild'],\n",
       "      dtype=object)"
      ]
     },
     "execution_count": 55,
     "metadata": {},
     "output_type": "execute_result"
    }
   ],
   "source": [
    "Test_ld['Total_Stress_Count'] = Test_ld['Total_Stress_Count'].replace('nan','Normal' )\n",
    "Test_ld.Total_Stress_Count.unique()"
   ]
  },
  {
   "cell_type": "code",
   "execution_count": 56,
   "metadata": {},
   "outputs": [
    {
     "data": {
      "text/plain": [
       "0    Moderate\n",
       "dtype: object"
      ]
     },
     "execution_count": 56,
     "metadata": {},
     "output_type": "execute_result"
    }
   ],
   "source": [
    "Test_ld['Total_Anxiety_Count'].mode()"
   ]
  },
  {
   "cell_type": "code",
   "execution_count": 57,
   "metadata": {},
   "outputs": [
    {
     "data": {
      "text/plain": [
       "array(['Extremely Severe', 'Mild', 'Normal', 'Moderate', 'Severe'],\n",
       "      dtype=object)"
      ]
     },
     "execution_count": 57,
     "metadata": {},
     "output_type": "execute_result"
    }
   ],
   "source": [
    "Test_ld['Total_Anxiety_Count'] = Test_ld['Total_Anxiety_Count'].replace('nan','Moderate' )\n",
    "Test_ld.Total_Anxiety_Count.unique()"
   ]
  },
  {
   "cell_type": "code",
   "execution_count": 58,
   "metadata": {},
   "outputs": [
    {
     "data": {
      "text/plain": [
       "0    Normal\n",
       "dtype: object"
      ]
     },
     "execution_count": 58,
     "metadata": {},
     "output_type": "execute_result"
    }
   ],
   "source": [
    "Test_ld['Total_Depression_Count'].mode()"
   ]
  },
  {
   "cell_type": "code",
   "execution_count": 59,
   "metadata": {},
   "outputs": [
    {
     "data": {
      "text/plain": [
       "array(['Normal', 'Moderate', 'Severe', 'Extremely Severe', 'Mild'],\n",
       "      dtype=object)"
      ]
     },
     "execution_count": 59,
     "metadata": {},
     "output_type": "execute_result"
    }
   ],
   "source": [
    "Test_ld['Total_Depression_Count'] = Test_ld['Total_Depression_Count'].replace('nan','Normal' )\n",
    "Test_ld.Total_Depression_Count.unique()"
   ]
  },
  {
   "cell_type": "code",
   "execution_count": 60,
   "metadata": {},
   "outputs": [],
   "source": [
    "Stress_Count = {'Normal': 1,'Mild': 2,'Moderate': 3,'Severe': 4,'Extremely Severe': 5} "
   ]
  },
  {
   "cell_type": "code",
   "execution_count": 61,
   "metadata": {},
   "outputs": [],
   "source": [
    "Test_ld.Total_Stress_Count = [Stress_Count[item] for item in Test_ld.Total_Stress_Count] "
   ]
  },
  {
   "cell_type": "code",
   "execution_count": 62,
   "metadata": {},
   "outputs": [
    {
     "name": "stdout",
     "output_type": "stream",
     "text": [
      "     Gender  Total_Stress_Count Total_Anxiety_Count Total_Depression_Count\n",
      "0         2                   4    Extremely Severe                 Normal\n",
      "1         2                   1                Mild               Moderate\n",
      "2         2                   3              Normal                 Severe\n",
      "3         1                   1                Mild                 Normal\n",
      "4         2                   1            Moderate       Extremely Severe\n",
      "..      ...                 ...                 ...                    ...\n",
      "111       2                   4    Extremely Severe       Extremely Severe\n",
      "112       1                   3            Moderate                 Normal\n",
      "113       1                   3    Extremely Severe                 Normal\n",
      "114       2                   1            Moderate               Moderate\n",
      "115       1                   1            Moderate               Moderate\n",
      "\n",
      "[116 rows x 4 columns]\n"
     ]
    }
   ],
   "source": [
    "print(Test_ld)"
   ]
  },
  {
   "cell_type": "code",
   "execution_count": 63,
   "metadata": {},
   "outputs": [],
   "source": [
    "Anxiety_Count = {'Normal': 1,'Mild': 2,'Moderate': 3,'Severe': 4,'Extremely Severe': 5} "
   ]
  },
  {
   "cell_type": "code",
   "execution_count": 64,
   "metadata": {},
   "outputs": [],
   "source": [
    "Test_ld.Total_Anxiety_Count = [Anxiety_Count[item] for item in Test_ld.Total_Anxiety_Count] "
   ]
  },
  {
   "cell_type": "code",
   "execution_count": 65,
   "metadata": {},
   "outputs": [
    {
     "name": "stdout",
     "output_type": "stream",
     "text": [
      "     Gender  Total_Stress_Count  Total_Anxiety_Count Total_Depression_Count\n",
      "0         2                   4                    5                 Normal\n",
      "1         2                   1                    2               Moderate\n",
      "2         2                   3                    1                 Severe\n",
      "3         1                   1                    2                 Normal\n",
      "4         2                   1                    3       Extremely Severe\n",
      "..      ...                 ...                  ...                    ...\n",
      "111       2                   4                    5       Extremely Severe\n",
      "112       1                   3                    3                 Normal\n",
      "113       1                   3                    5                 Normal\n",
      "114       2                   1                    3               Moderate\n",
      "115       1                   1                    3               Moderate\n",
      "\n",
      "[116 rows x 4 columns]\n"
     ]
    }
   ],
   "source": [
    "print(Test_ld)"
   ]
  },
  {
   "cell_type": "code",
   "execution_count": 66,
   "metadata": {},
   "outputs": [],
   "source": [
    "Depression_Count = {'Normal': 1,'Mild': 2,'Moderate': 3,'Severe': 4,'Extremely Severe': 5}"
   ]
  },
  {
   "cell_type": "code",
   "execution_count": 67,
   "metadata": {},
   "outputs": [],
   "source": [
    "Test_ld.Total_Depression_Count = [Depression_Count[item] for item in Test_ld.Total_Depression_Count] "
   ]
  },
  {
   "cell_type": "code",
   "execution_count": 68,
   "metadata": {},
   "outputs": [
    {
     "data": {
      "text/html": [
       "<div>\n",
       "<style scoped>\n",
       "    .dataframe tbody tr th:only-of-type {\n",
       "        vertical-align: middle;\n",
       "    }\n",
       "\n",
       "    .dataframe tbody tr th {\n",
       "        vertical-align: top;\n",
       "    }\n",
       "\n",
       "    .dataframe thead th {\n",
       "        text-align: right;\n",
       "    }\n",
       "</style>\n",
       "<table border=\"1\" class=\"dataframe\">\n",
       "  <thead>\n",
       "    <tr style=\"text-align: right;\">\n",
       "      <th></th>\n",
       "      <th>Gender</th>\n",
       "      <th>Total_Stress_Count</th>\n",
       "      <th>Total_Anxiety_Count</th>\n",
       "      <th>Total_Depression_Count</th>\n",
       "    </tr>\n",
       "  </thead>\n",
       "  <tbody>\n",
       "    <tr>\n",
       "      <th>0</th>\n",
       "      <td>2</td>\n",
       "      <td>4</td>\n",
       "      <td>5</td>\n",
       "      <td>1</td>\n",
       "    </tr>\n",
       "    <tr>\n",
       "      <th>1</th>\n",
       "      <td>2</td>\n",
       "      <td>1</td>\n",
       "      <td>2</td>\n",
       "      <td>3</td>\n",
       "    </tr>\n",
       "    <tr>\n",
       "      <th>2</th>\n",
       "      <td>2</td>\n",
       "      <td>3</td>\n",
       "      <td>1</td>\n",
       "      <td>4</td>\n",
       "    </tr>\n",
       "    <tr>\n",
       "      <th>3</th>\n",
       "      <td>1</td>\n",
       "      <td>1</td>\n",
       "      <td>2</td>\n",
       "      <td>1</td>\n",
       "    </tr>\n",
       "    <tr>\n",
       "      <th>4</th>\n",
       "      <td>2</td>\n",
       "      <td>1</td>\n",
       "      <td>3</td>\n",
       "      <td>5</td>\n",
       "    </tr>\n",
       "  </tbody>\n",
       "</table>\n",
       "</div>"
      ],
      "text/plain": [
       "   Gender  Total_Stress_Count  Total_Anxiety_Count  Total_Depression_Count\n",
       "0       2                   4                    5                       1\n",
       "1       2                   1                    2                       3\n",
       "2       2                   3                    1                       4\n",
       "3       1                   1                    2                       1\n",
       "4       2                   1                    3                       5"
      ]
     },
     "execution_count": 68,
     "metadata": {},
     "output_type": "execute_result"
    }
   ],
   "source": [
    "Test_ld.head()"
   ]
  },
  {
   "cell_type": "code",
   "execution_count": 69,
   "metadata": {},
   "outputs": [],
   "source": [
    "x_test = Test_ld.drop(['Gender'],axis=1)\n",
    "y_test = Test_ld.Gender"
   ]
  },
  {
   "cell_type": "code",
   "execution_count": 70,
   "metadata": {},
   "outputs": [],
   "source": [
    "prediction = D_T.predict(x_test)"
   ]
  },
  {
   "cell_type": "code",
   "execution_count": 71,
   "metadata": {},
   "outputs": [
    {
     "data": {
      "text/html": [
       "<div>\n",
       "<style scoped>\n",
       "    .dataframe tbody tr th:only-of-type {\n",
       "        vertical-align: middle;\n",
       "    }\n",
       "\n",
       "    .dataframe tbody tr th {\n",
       "        vertical-align: top;\n",
       "    }\n",
       "\n",
       "    .dataframe thead th {\n",
       "        text-align: right;\n",
       "    }\n",
       "</style>\n",
       "<table border=\"1\" class=\"dataframe\">\n",
       "  <thead>\n",
       "    <tr style=\"text-align: right;\">\n",
       "      <th></th>\n",
       "      <th>Actual</th>\n",
       "      <th>Predicted</th>\n",
       "    </tr>\n",
       "  </thead>\n",
       "  <tbody>\n",
       "    <tr>\n",
       "      <th>0</th>\n",
       "      <td>2</td>\n",
       "      <td>2</td>\n",
       "    </tr>\n",
       "    <tr>\n",
       "      <th>1</th>\n",
       "      <td>2</td>\n",
       "      <td>2</td>\n",
       "    </tr>\n",
       "    <tr>\n",
       "      <th>2</th>\n",
       "      <td>2</td>\n",
       "      <td>2</td>\n",
       "    </tr>\n",
       "    <tr>\n",
       "      <th>3</th>\n",
       "      <td>1</td>\n",
       "      <td>2</td>\n",
       "    </tr>\n",
       "    <tr>\n",
       "      <th>4</th>\n",
       "      <td>2</td>\n",
       "      <td>2</td>\n",
       "    </tr>\n",
       "  </tbody>\n",
       "</table>\n",
       "</div>"
      ],
      "text/plain": [
       "   Actual  Predicted\n",
       "0       2          2\n",
       "1       2          2\n",
       "2       2          2\n",
       "3       1          2\n",
       "4       2          2"
      ]
     },
     "execution_count": 71,
     "metadata": {},
     "output_type": "execute_result"
    }
   ],
   "source": [
    "D_Tdfm = pd.DataFrame(data={'Actual':y_test,'Predicted':prediction})\n",
    "D_Tdfm.head()\n",
    "#pd.DataFrame(\"actual\",y_test),(\"predicted\",prediction)\n",
    "#print(sqrt(mean_squared_error(ytest, prediction)))"
   ]
  },
  {
   "cell_type": "code",
   "execution_count": 72,
   "metadata": {},
   "outputs": [],
   "source": [
    "#D_T = DecisionTreeClassifier()\n",
    "#D_T.fit(x_train,y_train)\n",
    "\n",
    "# Train Decision Tree Classifer\n",
    "D_T = D_T.fit(x_train,y_train)\n",
    "\n",
    "#Predict the response for test dataset\n",
    "y_pred = D_T.predict(x_test)"
   ]
  },
  {
   "cell_type": "code",
   "execution_count": 73,
   "metadata": {},
   "outputs": [
    {
     "name": "stdout",
     "output_type": "stream",
     "text": [
      "Accuracy: 0.7931034482758621\n"
     ]
    }
   ],
   "source": [
    "print(\"Accuracy:\",metrics.accuracy_score(y_test, y_pred))"
   ]
  },
  {
   "cell_type": "code",
   "execution_count": 74,
   "metadata": {},
   "outputs": [
    {
     "data": {
      "text/plain": [
       "(116, 2)"
      ]
     },
     "execution_count": 74,
     "metadata": {},
     "output_type": "execute_result"
    }
   ],
   "source": [
    "D_Tdfm.shape"
   ]
  },
  {
   "cell_type": "code",
   "execution_count": 75,
   "metadata": {},
   "outputs": [
    {
     "name": "stdout",
     "output_type": "stream",
     "text": [
      "Confusion Matrix :\n",
      "[[34 14]\n",
      " [10 58]]\n",
      "Accuracy Score : 0.7931034482758621\n",
      "Report : \n",
      "              precision    recall  f1-score   support\n",
      "\n",
      "           1       0.77      0.71      0.74        48\n",
      "           2       0.81      0.85      0.83        68\n",
      "\n",
      "    accuracy                           0.79       116\n",
      "   macro avg       0.79      0.78      0.78       116\n",
      "weighted avg       0.79      0.79      0.79       116\n",
      "\n"
     ]
    }
   ],
   "source": [
    "from sklearn.metrics import confusion_matrix \n",
    "from sklearn.metrics import accuracy_score \n",
    "from sklearn.metrics import classification_report \n",
    "\n",
    "results = confusion_matrix(y_test, y_pred) \n",
    "print('Confusion Matrix :')\n",
    "print(results)\n",
    "print('Accuracy Score :',accuracy_score(y_test, y_pred))\n",
    "print('Report : ')\n",
    "print(classification_report(y_test, y_pred))"
   ]
  },
  {
   "cell_type": "code",
   "execution_count": 82,
   "metadata": {},
   "outputs": [],
   "source": [
    "import pandas as pd\n",
    "import numpy as np\n",
    "from sklearn import tree\n",
    "import numpy as np\n",
    "from sklearn.metrics import roc_auc_score"
   ]
  },
  {
   "cell_type": "code",
   "execution_count": 83,
   "metadata": {},
   "outputs": [],
   "source": [
    "from sklearn.model_selection import RandomizedSearchCV"
   ]
  },
  {
   "cell_type": "code",
   "execution_count": 84,
   "metadata": {},
   "outputs": [],
   "source": [
    "params={ 'class_weight':[None,'balanced'], \n",
    "        'criterion':['entropy','gini'],\n",
    "        'max_depth':[None,5,10,15,20,30,50,70],\n",
    "            'min_samples_leaf':[1,2,5,10,15,20], \n",
    "            'min_samples_split':[2,5,10,15,20]\n",
    "       }"
   ]
  },
  {
   "cell_type": "code",
   "execution_count": 85,
   "metadata": {},
   "outputs": [],
   "source": [
    "random_search=RandomizedSearchCV(D_T,cv=10,\n",
    "                                 param_distributions=params,\n",
    "                                 scoring='roc_auc',\n",
    "                                 n_iter=10\n",
    "                                    )"
   ]
  },
  {
   "cell_type": "code",
   "execution_count": 86,
   "metadata": {},
   "outputs": [
    {
     "name": "stderr",
     "output_type": "stream",
     "text": [
      "C:\\Users\\Anmol\\Anaconda3\\lib\\site-packages\\sklearn\\model_selection\\_search.py:814: DeprecationWarning: The default of the `iid` parameter will change from True to False in version 0.22 and will be removed in 0.24. This will change numeric results when test-set sizes are unequal.\n",
      "  DeprecationWarning)\n"
     ]
    },
    {
     "data": {
      "text/plain": [
       "RandomizedSearchCV(cv=10, error_score='raise-deprecating',\n",
       "                   estimator=DecisionTreeClassifier(class_weight=None,\n",
       "                                                    criterion='gini',\n",
       "                                                    max_depth=None,\n",
       "                                                    max_features=None,\n",
       "                                                    max_leaf_nodes=None,\n",
       "                                                    min_impurity_decrease=0.0,\n",
       "                                                    min_impurity_split=None,\n",
       "                                                    min_samples_leaf=1,\n",
       "                                                    min_samples_split=2,\n",
       "                                                    min_weight_fraction_leaf=0.0,\n",
       "                                                    presort=False,\n",
       "                                                    random_state=None,\n",
       "                                                    splitter='best'),\n",
       "                   iid='warn', n_iter=10, n_jobs=None,\n",
       "                   param_distributions={'class_weight': [None, 'balanced'],\n",
       "                                        'criterion': ['entropy', 'gini'],\n",
       "                                        'max_depth': [None, 5, 10, 15, 20, 30,\n",
       "                                                      50, 70],\n",
       "                                        'min_samples_leaf': [1, 2, 5, 10, 15,\n",
       "                                                             20],\n",
       "                                        'min_samples_split': [2, 5, 10, 15,\n",
       "                                                              20]},\n",
       "                   pre_dispatch='2*n_jobs', random_state=None, refit=True,\n",
       "                   return_train_score=False, scoring='roc_auc', verbose=0)"
      ]
     },
     "execution_count": 86,
     "metadata": {},
     "output_type": "execute_result"
    }
   ],
   "source": [
    "random_search.fit(x_train,y_train)"
   ]
  },
  {
   "cell_type": "code",
   "execution_count": 87,
   "metadata": {},
   "outputs": [
    {
     "data": {
      "text/plain": [
       "DecisionTreeClassifier(class_weight=None, criterion='gini', max_depth=50,\n",
       "                       max_features=None, max_leaf_nodes=None,\n",
       "                       min_impurity_decrease=0.0, min_impurity_split=None,\n",
       "                       min_samples_leaf=5, min_samples_split=20,\n",
       "                       min_weight_fraction_leaf=0.0, presort=False,\n",
       "                       random_state=None, splitter='best')"
      ]
     },
     "execution_count": 87,
     "metadata": {},
     "output_type": "execute_result"
    }
   ],
   "source": [
    "random_search.best_estimator_"
   ]
  },
  {
   "cell_type": "code",
   "execution_count": 88,
   "metadata": {},
   "outputs": [],
   "source": [
    "def report(results, n_top=3):\n",
    "    for i in range(1, n_top + 1):\n",
    "        candidates = np.flatnonzero(results['rank_test_score'] == i)\n",
    "        for candidate in candidates:\n",
    "            print(\"Model with rank: {0}\".format(i))\n",
    "            print(\"Mean validation score: {0:.3f} (std: {1:.5f})\".format(\n",
    "                  results['mean_test_score'][candidate],\n",
    "                  results['std_test_score'][candidate]))\n",
    "            print(\"Parameters: {0}\".format(results['params'][candidate]))\n",
    "            print(\"\")"
   ]
  },
  {
   "cell_type": "code",
   "execution_count": 89,
   "metadata": {},
   "outputs": [
    {
     "name": "stdout",
     "output_type": "stream",
     "text": [
      "Model with rank: 1\n",
      "Mean validation score: 0.506 (std: 0.16005)\n",
      "Parameters: {'min_samples_split': 20, 'min_samples_leaf': 5, 'max_depth': 50, 'criterion': 'gini', 'class_weight': None}\n",
      "\n",
      "Model with rank: 2\n",
      "Mean validation score: 0.498 (std: 0.16473)\n",
      "Parameters: {'min_samples_split': 15, 'min_samples_leaf': 5, 'max_depth': 15, 'criterion': 'entropy', 'class_weight': 'balanced'}\n",
      "\n",
      "Model with rank: 3\n",
      "Mean validation score: 0.495 (std: 0.14474)\n",
      "Parameters: {'min_samples_split': 2, 'min_samples_leaf': 5, 'max_depth': 70, 'criterion': 'entropy', 'class_weight': 'balanced'}\n",
      "\n",
      "Model with rank: 4\n",
      "Mean validation score: 0.491 (std: 0.15205)\n",
      "Parameters: {'min_samples_split': 5, 'min_samples_leaf': 5, 'max_depth': 20, 'criterion': 'gini', 'class_weight': 'balanced'}\n",
      "\n",
      "Model with rank: 5\n",
      "Mean validation score: 0.480 (std: 0.15914)\n",
      "Parameters: {'min_samples_split': 10, 'min_samples_leaf': 20, 'max_depth': 10, 'criterion': 'gini', 'class_weight': 'balanced'}\n",
      "\n",
      "Model with rank: 5\n",
      "Mean validation score: 0.480 (std: 0.15914)\n",
      "Parameters: {'min_samples_split': 15, 'min_samples_leaf': 20, 'max_depth': 10, 'criterion': 'entropy', 'class_weight': None}\n",
      "\n"
     ]
    }
   ],
   "source": [
    "report(random_search.cv_results_,5)"
   ]
  },
  {
   "cell_type": "code",
   "execution_count": 91,
   "metadata": {},
   "outputs": [],
   "source": [
    "dtree=random_search.best_estimator_"
   ]
  },
  {
   "cell_type": "code",
   "execution_count": 92,
   "metadata": {},
   "outputs": [
    {
     "data": {
      "text/plain": [
       "DecisionTreeClassifier(class_weight=None, criterion='gini', max_depth=50,\n",
       "                       max_features=None, max_leaf_nodes=None,\n",
       "                       min_impurity_decrease=0.0, min_impurity_split=None,\n",
       "                       min_samples_leaf=5, min_samples_split=20,\n",
       "                       min_weight_fraction_leaf=0.0, presort=False,\n",
       "                       random_state=None, splitter='best')"
      ]
     },
     "execution_count": 92,
     "metadata": {},
     "output_type": "execute_result"
    }
   ],
   "source": [
    "dtree.fit(x_train,y_train)"
   ]
  },
  {
   "cell_type": "code",
   "execution_count": 93,
   "metadata": {},
   "outputs": [],
   "source": [
    "dotfile = open(\"mytree.dot\", 'w')\n",
    "\n",
    "tree.export_graphviz(dtree,out_file=dotfile,\n",
    "                     feature_names=x_train.columns,\n",
    "                    class_names=[\"0\",\"1\"],\n",
    "                     proportion=True)\n",
    "dotfile.close()"
   ]
  },
  {
   "cell_type": "code",
   "execution_count": 100,
   "metadata": {},
   "outputs": [],
   "source": [
    "from sklearn.ensemble import RandomForestClassifier\n",
    "\n",
    "# Create the model with 100 trees\n",
    "model = RandomForestClassifier(n_estimators=100, \n",
    "                               bootstrap = True,\n",
    "                               max_features = 'sqrt')"
   ]
  },
  {
   "cell_type": "code",
   "execution_count": 101,
   "metadata": {},
   "outputs": [],
   "source": [
    "# Train Random Forest Tree Classifer\n",
    "model = model.fit(x_train,y_train)\n"
   ]
  },
  {
   "cell_type": "code",
   "execution_count": 102,
   "metadata": {},
   "outputs": [],
   "source": [
    "#import numpy as np\n",
    "y_pred_1 = model.predict(x_test)\n"
   ]
  },
  {
   "cell_type": "code",
   "execution_count": 103,
   "metadata": {},
   "outputs": [
    {
     "name": "stdout",
     "output_type": "stream",
     "text": [
      "Accuracy: 0.7931034482758621\n"
     ]
    }
   ],
   "source": [
    "print(\"Accuracy:\",metrics.accuracy_score(y_test, y_pred_1))"
   ]
  }
 ],
 "metadata": {
  "kernelspec": {
   "display_name": "Python 3",
   "language": "python",
   "name": "python3"
  },
  "language_info": {
   "codemirror_mode": {
    "name": "ipython",
    "version": 3
   },
   "file_extension": ".py",
   "mimetype": "text/x-python",
   "name": "python",
   "nbconvert_exporter": "python",
   "pygments_lexer": "ipython3",
   "version": "3.7.4"
  }
 },
 "nbformat": 4,
 "nbformat_minor": 2
}
